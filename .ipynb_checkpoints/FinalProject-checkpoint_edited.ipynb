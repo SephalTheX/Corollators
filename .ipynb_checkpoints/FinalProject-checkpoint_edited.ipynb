{
 "cells": [
  {
   "cell_type": "markdown",
   "metadata": {},
   "source": [
    "# COGS 108 - Final Project "
   ]
  },
  {
   "cell_type": "markdown",
   "metadata": {},
   "source": [
    "# Overview"
   ]
  },
  {
   "cell_type": "markdown",
   "metadata": {},
   "source": [
    "*Fill in your overview here*"
   ]
  },
  {
   "cell_type": "markdown",
   "metadata": {},
   "source": [
    "# Names\n",
    "\n",
    "- Amir Rashidi\n",
    "- Amir Farhan\n",
    "- Byungkwon Han\n",
    "- Xiaotian Shi\n",
    "- Jason Tam"
   ]
  },
  {
   "cell_type": "markdown",
   "metadata": {},
   "source": [
    "# Group Members IDs\n",
    "\n",
    "- A15752965\n",
    "- A########\n",
    "- A########\n",
    "- A########"
   ]
  },
  {
   "cell_type": "markdown",
   "metadata": {},
   "source": [
    "# Research Question"
   ]
  },
  {
   "cell_type": "markdown",
   "metadata": {},
   "source": [
    "When is the best time for manufacturers to release a movie in the United States, in order to maximize revenue?"
   ]
  },
  {
   "cell_type": "markdown",
   "metadata": {},
   "source": [
    "## Background and Prior Work"
   ]
  },
  {
   "cell_type": "markdown",
   "metadata": {},
   "source": [
    "*Fill in your background and prior work here* \n",
    "\n",
    "References (include links):\n",
    "- 1)\n",
    "- 2)"
   ]
  },
  {
   "cell_type": "markdown",
   "metadata": {},
   "source": [
    "# Hypothesis\n"
   ]
  },
  {
   "cell_type": "markdown",
   "metadata": {},
   "source": [
    "Although the revenue that a movie eventually earns depends on many different factors, it directly depends on how many tickets it can sell.<br>\n",
    "<br>\n",
    "Based on this, our first assumption is that a movie earns more if it is released during the leisure months of its targeted audiences. Thus, it will be more legitimate to compare movies within the same genre. We will be focusing on specific genre(s) when analyzing our data.<br>\n",
    "<br>\n",
    "Our second hypothesis, which follows the first, is that the revenue is also influenced by the release time relative to other events. Since people's money and time are limited, if the movie is released when there are other events (major social/entertainment events, or other popular movies) coming, people who originally plan to watch the movie may give up on it.<br>\n",
    "<br>\n",
    "The qualities of movies could be a potential confounding factor here, since it is natural for people to not watch movies that are rated badly. We will compare movies that are roughly at the same level, measuring primarily by the ratings."
   ]
  },
  {
   "cell_type": "markdown",
   "metadata": {},
   "source": [
    "# Dataset(s)"
   ]
  },
  {
   "cell_type": "markdown",
   "metadata": {},
   "source": [
    "Dataset Name: The Numbers Domestic Boxoffice Dataset<br>\n",
    "Link to the dataset: https://www.the-numbers.com/box-office-records/domestic/all-movies/cumulative/all-time<br>\n",
    "Number of observations: 1100<br>\n",
    "Description: This dataset contains 1100 bestseller movies along with their domestic, international, and worldwide box<br>offices. We will only be using the domestic box offices."
   ]
  },
  {
   "cell_type": "markdown",
   "metadata": {},
   "source": [
    "Dataset Name: OMDb Movie Dataset<br>\n",
    "Link to the dataset: https://www.omdbapi.com<br>\n",
    "Number of observations: 1098<br>\n",
    "Description: This dataset contains IMDb, Metacritic, and Rotten Tomatoes ratings of the movies in the other dataset. It also contains <br>the release dates. "
   ]
  },
  {
   "cell_type": "markdown",
   "metadata": {},
   "source": [
    "We will join the two datasets on movie name in order to get the ratings, release dates, and box offices information in the same data frame."
   ]
  },
  {
   "cell_type": "markdown",
   "metadata": {},
   "source": [
    "# Setup"
   ]
  },
  {
   "cell_type": "markdown",
   "metadata": {},
   "source": [
    "Before we start setting up and cleaning the data, we deleted 2 rows from The Numbers Domestic Boxoffice Dataset, because the form of the 2 rows make it hard to query data from OMDb. Moreover, after manually fixing the form, it seems that the result from OMDb to be containing all NaN values. Thus, we decided to remove those 2 rows. As a result, the joined dataset has 1098 rows."
   ]
  },
  {
   "cell_type": "code",
   "execution_count": 1,
   "metadata": {},
   "outputs": [],
   "source": [
    "# importing required libraries\n",
    "import pandas as pd\n",
    "import numpy as np\n",
    "import matplotlib.pyplot as plt"
   ]
  },
  {
   "cell_type": "code",
   "execution_count": 2,
   "metadata": {},
   "outputs": [],
   "source": [
    "# omdb_joined.csv is the dataset resulting from joining the two raw datasets\n",
    "df_omdb = pd.read_csv(\"./data/omdb_joined.csv\")"
   ]
  },
  {
   "cell_type": "markdown",
   "metadata": {},
   "source": [
    "# Data Cleaning"
   ]
  },
  {
   "cell_type": "markdown",
   "metadata": {},
   "source": [
    "Describe your data cleaning steps here."
   ]
  },
  {
   "cell_type": "code",
   "execution_count": 3,
   "metadata": {},
   "outputs": [],
   "source": [
    "# Use the ranks as indices\n",
    "# The unnamed columns, which represent the original indices, will be dropped\n",
    "df_omdb.set_index('Rank', inplace=True)\n",
    "df_omdb.drop(df_omdb.columns[df_omdb.columns.str.contains('unnamed',case = False)],axis = 1, inplace = True)"
   ]
  },
  {
   "cell_type": "code",
   "execution_count": 4,
   "metadata": {},
   "outputs": [],
   "source": [
    "# Rename the column names('Released' -> 'Year', 'Released Month' -> 'Month', 'IMDB Votes' -> 'IMDb Votes')\n",
    "df_omdb.rename(index=str, columns={'Released': 'Year', 'Released Month': 'Month',\n",
    "                                   'IMDB Votes': 'IMDb Votes'}, inplace=True)"
   ]
  },
  {
   "cell_type": "code",
   "execution_count": 5,
   "metadata": {},
   "outputs": [
    {
     "name": "stdout",
     "output_type": "stream",
     "text": [
      "NaN Month count: 2\n",
      "NaN Box Office count: 0\n"
     ]
    }
   ],
   "source": [
    "# Count the number of NaN values in the 'Month' and 'DomesticBox Office' column\n",
    "# These rows will be dropped because the release month and box offices are the primary targets\n",
    "# that we will be exploring, without these values, the row is useless\n",
    "naMonth = df_omdb['Month'].isna().sum()\n",
    "naBoxOffice = df_omdb['DomesticBox Office'].isna().sum()\n",
    "print('NaN Month count:', naMonth)\n",
    "print('NaN Box Office count:', naBoxOffice)"
   ]
  },
  {
   "cell_type": "markdown",
   "metadata": {},
   "source": [
    "The result of the last cell shows that we have 2 NaN values in the 'Month' column, and 0 NaN values in the 'DomesticBox Office' column. We will drop the two rows which contain NaN Months."
   ]
  },
  {
   "cell_type": "code",
   "execution_count": 6,
   "metadata": {},
   "outputs": [],
   "source": [
    "# Drop NaNs in Month column\n",
    "# Convert the Month column to only containing release months\n",
    "df_omdb.dropna(subset=['Month'], inplace=True)\n",
    "for idx, row in df_omdb.iterrows():\n",
    "    month = row['Month'][3:6]\n",
    "    df_omdb.at[idx, 'Month'] = month\n",
    "\n",
    "# convert the Month column to integer\n",
    "look_up = {'Jan': 1, 'Feb': 2, 'Mar': 3, 'Apr': 4, 'May': 5, \n",
    "           'Jun': 6, 'Jul': 7, 'Aug': 8, 'Sep': 9, 'Oct': 10, 'Nov': 11, 'Dec': 12}\n",
    "\n",
    "df_omdb['Month'] = df_omdb['Month'].apply(lambda x: look_up[x])"
   ]
  },
  {
   "cell_type": "code",
   "execution_count": 7,
   "metadata": {},
   "outputs": [],
   "source": [
    "# Drop the columns 'InternationalBox Office' and 'WorldwideBox Office'\n",
    "# Our question only concerns the domestic revenues, we won't need these two columns\n",
    "df_omdb.drop(axis=1, columns=['InternationalBox Office', 'WorldwideBox Office'], inplace=True)"
   ]
  },
  {
   "cell_type": "code",
   "execution_count": 8,
   "metadata": {},
   "outputs": [],
   "source": [
    "# Convert the 'DomesticBox Office' column to integers\n",
    "for idx, row in df_omdb.iterrows():\n",
    "    revenue = ''.join(filter(str.isdigit, row['DomesticBox Office']))\n",
    "    df_omdb.at[idx, 'DomesticBox Office'] = revenue\n",
    "\n",
    "df_omdb['DomesticBox Office'] = pd.to_numeric(df_omdb['DomesticBox Office'])"
   ]
  },
  {
   "cell_type": "code",
   "execution_count": 9,
   "metadata": {},
   "outputs": [],
   "source": [
    "# Reorder the columns\n",
    "df_omdb = df_omdb[['Movie', 'Genre', 'Year', 'Month', 'DomesticBox Office',\n",
    "                   'IMDb Votes', 'IMDb Ratings', 'Metacritic', 'Rotten Tomatoes']]"
   ]
  },
  {
   "cell_type": "code",
   "execution_count": 10,
   "metadata": {},
   "outputs": [
    {
     "name": "stdout",
     "output_type": "stream",
     "text": [
      "Unique months: [12  2  4  6  5  7  3 11  1  8  9 10]\n",
      "Box Office Column dtype: int64\n"
     ]
    }
   ],
   "source": [
    "# Check whether the dataframe is in good shape\n",
    "print(\"Unique months:\", df_omdb['Month'].unique())\n",
    "print(\"Box Office Column dtype:\", df_omdb['DomesticBox Office'].dtype)"
   ]
  },
  {
   "cell_type": "code",
   "execution_count": 11,
   "metadata": {},
   "outputs": [],
   "source": [
    "# save intermediate dataframe\n",
    "df_omdb.to_csv('./data/omdb_cleaned.csv')"
   ]
  },
  {
   "cell_type": "markdown",
   "metadata": {},
   "source": [
    "<b>Summary of Data Cleaning</b><br>\n",
    "The two datasets are good enough that their data are already standardized. All the values in the DomesticBox Office column can be converted to int64 easily, and all values in the Month column all have the same format. Thus, our job on data cleaning is fairly simple<br>\n",
    "<br>\n",
    "<b>1. Pre-processsing:</b> 2 rows dropped from The Numbers Domestic Boxoffice Dataset (deleted directly in the file). Those two rows result in NaN values when querying the second dataset.<br>\n",
    "<br>\n",
    "<b>2. Columns Dropped:</b> 'InternationalBox Office', 'WorldwideBox Office'<br>\n",
    "Our question concerns the domestic revenue of the movies. These two information in the data frame will not be used. We believe this will not affect the result because they are irrelevant.<br>\n",
    "<br>\n",
    "<b>3. Rows Dropped:</b> 2 rows where the 'Month' column contain NaN<br>\n",
    "We have to drop these two rows because they do not contain a critical row of our interest. We are exploring the relationship between the release time and domestic revenue. Without the Month column the rows are useless.<br>\n",
    "<br>\n",
    "<b>4. Other informations dropped:</b> The exact release dates originally contained in the 'Month' column<br>\n",
    "We dropped this information because we are not studying exact dates. Instead, we only care about the relationship between the release month and domestic revenue. Different release dates may also influence the revenue of a movie. However, because movies are often on show for several weeks, we decide to not consider this information. By doing this, we risk losing some information that might influence our result."
   ]
  },
  {
   "cell_type": "markdown",
   "metadata": {},
   "source": [
    "# Descriptive Analysis"
   ]
  },
  {
   "cell_type": "markdown",
   "metadata": {},
   "source": [
    "Obtain the cleaned data. "
   ]
  },
  {
   "cell_type": "code",
   "execution_count": 12,
   "metadata": {},
   "outputs": [],
   "source": [
    "df = pd.read_csv('./data/omdb_cleaned.csv')"
   ]
  },
  {
   "cell_type": "markdown",
   "metadata": {},
   "source": [
    "# Size"
   ]
  },
  {
   "cell_type": "code",
   "execution_count": 13,
   "metadata": {},
   "outputs": [
    {
     "name": "stdout",
     "output_type": "stream",
     "text": [
      "Number of movies:  1096\n",
      "Variables for each movie:  10\n"
     ]
    }
   ],
   "source": [
    "# Print the size of the data\n",
    "num_movies,info = df.shape\n",
    "print(\"Number of movies: \", num_movies)\n",
    "print(\"Variables for each movie: \", info)"
   ]
  },
  {
   "cell_type": "markdown",
   "metadata": {},
   "source": [
    "# Missingness"
   ]
  },
  {
   "cell_type": "code",
   "execution_count": 14,
   "metadata": {},
   "outputs": [
    {
     "data": {
      "text/plain": [
       "Rank                   0\n",
       "Movie                  0\n",
       "Genre                  0\n",
       "Year                   0\n",
       "Month                  0\n",
       "DomesticBox Office     0\n",
       "IMDb Votes             0\n",
       "IMDb Ratings           0\n",
       "Metacritic            16\n",
       "Rotten Tomatoes       24\n",
       "dtype: int64"
      ]
     },
     "execution_count": 14,
     "metadata": {},
     "output_type": "execute_result"
    }
   ],
   "source": [
    "# Output the number of null elemeents in each column of the data\n",
    "df.isnull().sum()"
   ]
  },
  {
   "cell_type": "markdown",
   "metadata": {},
   "source": [
    "For ratings, we will not be using information from Metacritic or Rotten Tomatoes. Instead, we will only be using data from IMDb. Therefore, we will not have any missing data in our analysis."
   ]
  },
  {
   "cell_type": "markdown",
   "metadata": {},
   "source": [
    "# Shape"
   ]
  },
  {
   "cell_type": "code",
   "execution_count": 15,
   "metadata": {},
   "outputs": [
    {
     "data": {
      "image/png": "[encoded data removed]",
      "text/plain": [
       "<Figure size 432x288 with 1 Axes>"
      ]
     },
     "metadata": {
      "needs_background": "light"
     },
     "output_type": "display_data"
    }
   ],
   "source": [
    "# Plot a histogram comparing the number of movies that make each revenue category\n",
    "plt.figure()\n",
    "plt.xlabel(\"Revenue in $ billions\")\n",
    "df['DomesticBox Office'].plot.hist(bins=100)\n",
    "\n",
    "f1 = plt.gcf()"
   ]
  },
  {
   "cell_type": "markdown",
   "metadata": {},
   "source": [
    "We can see from the graph that the data is heavily skewed right indicating that revenue is usually around 100 billion. "
   ]
  },
  {
   "cell_type": "code",
   "execution_count": 16,
   "metadata": {},
   "outputs": [
    {
     "data": {
      "image/png": "[encoded data removed]",
      "text/plain": [
       "<Figure size 432x288 with 1 Axes>"
      ]
     },
     "metadata": {
      "needs_background": "light"
     },
     "output_type": "display_data"
    }
   ],
   "source": [
    "# Plot a histogram comparing the number of movies that get a certain rating on IMDb\n",
    "plt.figure()\n",
    "plt.xlabel(\"IMDb Ratings\")\n",
    "df['IMDb Ratings'].plot.hist(bins=25)\n",
    "\n",
    "f2 = plt.gcf()"
   ]
  },
  {
   "cell_type": "markdown",
   "metadata": {},
   "source": [
    "We can see from the graph that the data is normally distributed with a peak at 7."
   ]
  },
  {
   "cell_type": "code",
   "execution_count": 17,
   "metadata": {},
   "outputs": [
    {
     "data": {
      "image/png": "[encoded data removed]",
      "text/plain": [
       "<Figure size 432x288 with 1 Axes>"
      ]
     },
     "metadata": {
      "needs_background": "light"
     },
     "output_type": "display_data"
    }
   ],
   "source": [
    "plt.figure()\n",
    "plt.xlabel(\"Number of Movies release each month\")\n",
    "df['Month'].plot.hist(bins=12)\n",
    "\n",
    "f2 = plt.gcf()"
   ]
  },
  {
   "cell_type": "markdown",
   "metadata": {},
   "source": [
    "# Central Tendency"
   ]
  },
  {
   "cell_type": "markdown",
   "metadata": {},
   "source": [
    "Since the data for revenue is skewed, we will find the median for the following steps since mean will not be a good indicator of central tendency. The data for ratings is mostly normal so we can use mean for ratings because the mean will be around the middle of the data."
   ]
  },
  {
   "cell_type": "code",
   "execution_count": 18,
   "metadata": {},
   "outputs": [
    {
     "name": "stdout",
     "output_type": "stream",
     "text": [
      "The median for revenues is $ 118532934.0\n",
      "The mean for rating is  6.806386861313869\n"
     ]
    }
   ],
   "source": [
    "median_revenue = df['DomesticBox Office'].median()\n",
    "mean_ratings = df['IMDb Ratings'].mean()\n",
    "print(\"The median for revenues is $\", median_revenue)\n",
    "print(\"The mean for rating is \", mean_ratings)"
   ]
  },
  {
   "cell_type": "markdown",
   "metadata": {},
   "source": [
    "# Variability"
   ]
  },
  {
   "cell_type": "markdown",
   "metadata": {},
   "source": [
    "For revenue, we use IQR since our central tendency was calculated using median and std wouldn't be a good indication of variability with a skewed graph. For ratings, we use standard deviation because we can see how far our data is from a line of best fit."
   ]
  },
  {
   "cell_type": "code",
   "execution_count": 19,
   "metadata": {},
   "outputs": [
    {
     "name": "stdout",
     "output_type": "stream",
     "text": [
      "The interquatile range for revenues is $82755090.0\n",
      "The standard deviation of ratings is 0.9275072361079976\n"
     ]
    }
   ],
   "source": [
    "lower_revenue,upper_revenue = np.percentile(df['DomesticBox Office'], [25,75])\n",
    "iqr_revenue = upper_revenue - lower_revenue\n",
    "print(\"The interquatile range for revenues is $\" + str(iqr_revenue))\n",
    "std_ratings = df['IMDb Ratings'].std()\n",
    "print(\"The standard deviation of ratings is \" + str(std_ratings))"
   ]
  },
  {
   "cell_type": "markdown",
   "metadata": {},
   "source": [
    "# Exploratory Analysis"
   ]
  },
  {
   "cell_type": "code",
   "execution_count": 20,
   "metadata": {},
   "outputs": [
    {
     "data": {
      "text/html": [
       "<div>\n",
       "<style scoped>\n",
       "    .dataframe tbody tr th:only-of-type {\n",
       "        vertical-align: middle;\n",
       "    }\n",
       "\n",
       "    .dataframe tbody tr th {\n",
       "        vertical-align: top;\n",
       "    }\n",
       "\n",
       "    .dataframe thead th {\n",
       "        text-align: right;\n",
       "    }\n",
       "</style>\n",
       "<table border=\"1\" class=\"dataframe\">\n",
       "  <thead>\n",
       "    <tr style=\"text-align: right;\">\n",
       "      <th></th>\n",
       "      <th>Rank</th>\n",
       "      <th>Movie</th>\n",
       "      <th>Genre</th>\n",
       "      <th>Year</th>\n",
       "      <th>Month</th>\n",
       "      <th>DomesticBox Office</th>\n",
       "      <th>IMDb Votes</th>\n",
       "      <th>IMDb Ratings</th>\n",
       "      <th>Metacritic</th>\n",
       "      <th>Rotten Tomatoes</th>\n",
       "    </tr>\n",
       "  </thead>\n",
       "  <tbody>\n",
       "    <tr>\n",
       "      <th>0</th>\n",
       "      <td>1</td>\n",
       "      <td>Star Wars Ep. VII: The Force Awakens</td>\n",
       "      <td>Action, Adventure, Fantasy, Sci-Fi</td>\n",
       "      <td>2015</td>\n",
       "      <td>12</td>\n",
       "      <td>936662225</td>\n",
       "      <td>778,602</td>\n",
       "      <td>8.0</td>\n",
       "      <td>81/100</td>\n",
       "      <td>92%</td>\n",
       "    </tr>\n",
       "    <tr>\n",
       "      <th>1</th>\n",
       "      <td>2</td>\n",
       "      <td>Avatar</td>\n",
       "      <td>Action, Adventure, Fantasy, Sci-Fi</td>\n",
       "      <td>2009</td>\n",
       "      <td>12</td>\n",
       "      <td>760507625</td>\n",
       "      <td>1,038,709</td>\n",
       "      <td>7.8</td>\n",
       "      <td>83/100</td>\n",
       "      <td>82%</td>\n",
       "    </tr>\n",
       "    <tr>\n",
       "      <th>2</th>\n",
       "      <td>3</td>\n",
       "      <td>Black Panther</td>\n",
       "      <td>Action, Adventure, Sci-Fi</td>\n",
       "      <td>2018</td>\n",
       "      <td>2</td>\n",
       "      <td>700059566</td>\n",
       "      <td>501,220</td>\n",
       "      <td>7.3</td>\n",
       "      <td>88/100</td>\n",
       "      <td>97%</td>\n",
       "    </tr>\n",
       "    <tr>\n",
       "      <th>3</th>\n",
       "      <td>4</td>\n",
       "      <td>Avengers: Infinity War</td>\n",
       "      <td>Action, Adventure, Sci-Fi</td>\n",
       "      <td>2018</td>\n",
       "      <td>4</td>\n",
       "      <td>678815482</td>\n",
       "      <td>641,255</td>\n",
       "      <td>8.5</td>\n",
       "      <td>68/100</td>\n",
       "      <td>85%</td>\n",
       "    </tr>\n",
       "    <tr>\n",
       "      <th>4</th>\n",
       "      <td>5</td>\n",
       "      <td>Titanic</td>\n",
       "      <td>Drama, Romance</td>\n",
       "      <td>1997</td>\n",
       "      <td>12</td>\n",
       "      <td>659363944</td>\n",
       "      <td>946,032</td>\n",
       "      <td>7.8</td>\n",
       "      <td>75/100</td>\n",
       "      <td>89%</td>\n",
       "    </tr>\n",
       "    <tr>\n",
       "      <th>5</th>\n",
       "      <td>6</td>\n",
       "      <td>Jurassic World</td>\n",
       "      <td>Action, Adventure, Sci-Fi</td>\n",
       "      <td>2015</td>\n",
       "      <td>6</td>\n",
       "      <td>652270625</td>\n",
       "      <td>534,122</td>\n",
       "      <td>7.0</td>\n",
       "      <td>59/100</td>\n",
       "      <td>72%</td>\n",
       "    </tr>\n",
       "    <tr>\n",
       "      <th>6</th>\n",
       "      <td>7</td>\n",
       "      <td>The Avengers</td>\n",
       "      <td>Action, Adventure, Sci-Fi</td>\n",
       "      <td>2012</td>\n",
       "      <td>5</td>\n",
       "      <td>623279547</td>\n",
       "      <td>1,165,317</td>\n",
       "      <td>8.1</td>\n",
       "      <td>69/100</td>\n",
       "      <td>92%</td>\n",
       "    </tr>\n",
       "    <tr>\n",
       "      <th>7</th>\n",
       "      <td>8</td>\n",
       "      <td>Star Wars Ep. VIII: The Last Jedi</td>\n",
       "      <td>Action, Adventure, Fantasy, Sci-Fi</td>\n",
       "      <td>2017</td>\n",
       "      <td>12</td>\n",
       "      <td>620181382</td>\n",
       "      <td>455,389</td>\n",
       "      <td>7.2</td>\n",
       "      <td>85/100</td>\n",
       "      <td>91%</td>\n",
       "    </tr>\n",
       "    <tr>\n",
       "      <th>8</th>\n",
       "      <td>9</td>\n",
       "      <td>Incredibles 2</td>\n",
       "      <td>Animation, Action, Adventure, Comedy, Family, ...</td>\n",
       "      <td>2018</td>\n",
       "      <td>6</td>\n",
       "      <td>608581744</td>\n",
       "      <td>192,447</td>\n",
       "      <td>7.7</td>\n",
       "      <td>80/100</td>\n",
       "      <td>94%</td>\n",
       "    </tr>\n",
       "    <tr>\n",
       "      <th>9</th>\n",
       "      <td>10</td>\n",
       "      <td>The Dark Knight</td>\n",
       "      <td>Action, Crime, Drama, Thriller</td>\n",
       "      <td>2008</td>\n",
       "      <td>7</td>\n",
       "      <td>533720947</td>\n",
       "      <td>2,039,506</td>\n",
       "      <td>9.0</td>\n",
       "      <td>84/100</td>\n",
       "      <td>94%</td>\n",
       "    </tr>\n",
       "    <tr>\n",
       "      <th>10</th>\n",
       "      <td>11</td>\n",
       "      <td>Rogue One: A Star Wars Story</td>\n",
       "      <td>Action, Adventure, Sci-Fi</td>\n",
       "      <td>2016</td>\n",
       "      <td>12</td>\n",
       "      <td>532177324</td>\n",
       "      <td>470,865</td>\n",
       "      <td>7.8</td>\n",
       "      <td>65/100</td>\n",
       "      <td>84%</td>\n",
       "    </tr>\n",
       "    <tr>\n",
       "      <th>11</th>\n",
       "      <td>12</td>\n",
       "      <td>Beauty and the Beast</td>\n",
       "      <td>Family, Fantasy, Musical, Romance</td>\n",
       "      <td>2017</td>\n",
       "      <td>3</td>\n",
       "      <td>504014165</td>\n",
       "      <td>234,189</td>\n",
       "      <td>7.2</td>\n",
       "      <td>65/100</td>\n",
       "      <td>71%</td>\n",
       "    </tr>\n",
       "    <tr>\n",
       "      <th>12</th>\n",
       "      <td>13</td>\n",
       "      <td>Finding Dory</td>\n",
       "      <td>Animation, Adventure, Comedy, Family</td>\n",
       "      <td>2016</td>\n",
       "      <td>6</td>\n",
       "      <td>486295561</td>\n",
       "      <td>211,743</td>\n",
       "      <td>7.3</td>\n",
       "      <td>77/100</td>\n",
       "      <td>94%</td>\n",
       "    </tr>\n",
       "    <tr>\n",
       "      <th>13</th>\n",
       "      <td>14</td>\n",
       "      <td>Star Wars Ep. I: The Phantom Menace</td>\n",
       "      <td>Action, Adventure, Fantasy, Sci-Fi</td>\n",
       "      <td>1999</td>\n",
       "      <td>5</td>\n",
       "      <td>474544677</td>\n",
       "      <td>649,320</td>\n",
       "      <td>6.5</td>\n",
       "      <td>51/100</td>\n",
       "      <td>54%</td>\n",
       "    </tr>\n",
       "    <tr>\n",
       "      <th>14</th>\n",
       "      <td>15</td>\n",
       "      <td>Star Wars Ep. IV: A New Hope</td>\n",
       "      <td>Action, Adventure, Fantasy, Sci-Fi</td>\n",
       "      <td>1977</td>\n",
       "      <td>5</td>\n",
       "      <td>460998007</td>\n",
       "      <td>1,109,357</td>\n",
       "      <td>8.6</td>\n",
       "      <td>90/100</td>\n",
       "      <td>93%</td>\n",
       "    </tr>\n",
       "    <tr>\n",
       "      <th>15</th>\n",
       "      <td>16</td>\n",
       "      <td>Avengers: Age of Ultron</td>\n",
       "      <td>Action, Adventure, Sci-Fi</td>\n",
       "      <td>2015</td>\n",
       "      <td>5</td>\n",
       "      <td>459005868</td>\n",
       "      <td>654,822</td>\n",
       "      <td>7.3</td>\n",
       "      <td>66/100</td>\n",
       "      <td>75%</td>\n",
       "    </tr>\n",
       "    <tr>\n",
       "      <th>16</th>\n",
       "      <td>17</td>\n",
       "      <td>The Dark Knight Rises</td>\n",
       "      <td>Action, Thriller</td>\n",
       "      <td>2012</td>\n",
       "      <td>7</td>\n",
       "      <td>448139099</td>\n",
       "      <td>1,372,667</td>\n",
       "      <td>8.4</td>\n",
       "      <td>78/100</td>\n",
       "      <td>87%</td>\n",
       "    </tr>\n",
       "    <tr>\n",
       "      <th>17</th>\n",
       "      <td>18</td>\n",
       "      <td>Shrek 2</td>\n",
       "      <td>Animation, Adventure, Comedy, Family, Fantasy,...</td>\n",
       "      <td>2004</td>\n",
       "      <td>5</td>\n",
       "      <td>441226247</td>\n",
       "      <td>378,707</td>\n",
       "      <td>7.2</td>\n",
       "      <td>75/100</td>\n",
       "      <td>89%</td>\n",
       "    </tr>\n",
       "    <tr>\n",
       "      <th>18</th>\n",
       "      <td>19</td>\n",
       "      <td>ET: The Extra-Terrestrial</td>\n",
       "      <td>Family, Sci-Fi</td>\n",
       "      <td>1982</td>\n",
       "      <td>6</td>\n",
       "      <td>435110554</td>\n",
       "      <td>335,539</td>\n",
       "      <td>7.9</td>\n",
       "      <td>91/100</td>\n",
       "      <td>98%</td>\n",
       "    </tr>\n",
       "    <tr>\n",
       "      <th>19</th>\n",
       "      <td>20</td>\n",
       "      <td>The Hunger Games: Catching Fire</td>\n",
       "      <td>Action, Adventure, Sci-Fi, Thriller</td>\n",
       "      <td>2013</td>\n",
       "      <td>11</td>\n",
       "      <td>424668047</td>\n",
       "      <td>571,535</td>\n",
       "      <td>7.5</td>\n",
       "      <td>76/100</td>\n",
       "      <td>89%</td>\n",
       "    </tr>\n",
       "    <tr>\n",
       "      <th>20</th>\n",
       "      <td>21</td>\n",
       "      <td>Pirates of the Caribbean: Dead Man's Chest</td>\n",
       "      <td>Action, Adventure, Fantasy</td>\n",
       "      <td>2006</td>\n",
       "      <td>7</td>\n",
       "      <td>423315812</td>\n",
       "      <td>608,558</td>\n",
       "      <td>7.3</td>\n",
       "      <td>53/100</td>\n",
       "      <td>53%</td>\n",
       "    </tr>\n",
       "    <tr>\n",
       "      <th>21</th>\n",
       "      <td>22</td>\n",
       "      <td>The Lion King</td>\n",
       "      <td>Animation, Adventure, Drama, Family, Musical</td>\n",
       "      <td>1994</td>\n",
       "      <td>6</td>\n",
       "      <td>421785283</td>\n",
       "      <td>823,703</td>\n",
       "      <td>8.5</td>\n",
       "      <td>83/100</td>\n",
       "      <td>93%</td>\n",
       "    </tr>\n",
       "    <tr>\n",
       "      <th>22</th>\n",
       "      <td>23</td>\n",
       "      <td>Jurassic World: Fallen Kingdom</td>\n",
       "      <td>Action, Adventure, Sci-Fi</td>\n",
       "      <td>2018</td>\n",
       "      <td>6</td>\n",
       "      <td>417719760</td>\n",
       "      <td>209,444</td>\n",
       "      <td>6.2</td>\n",
       "      <td>51/100</td>\n",
       "      <td>48%</td>\n",
       "    </tr>\n",
       "    <tr>\n",
       "      <th>23</th>\n",
       "      <td>24</td>\n",
       "      <td>Toy Story 3</td>\n",
       "      <td>Animation, Adventure, Comedy, Family, Fantasy</td>\n",
       "      <td>2010</td>\n",
       "      <td>6</td>\n",
       "      <td>415004880</td>\n",
       "      <td>673,530</td>\n",
       "      <td>8.3</td>\n",
       "      <td>92/100</td>\n",
       "      <td>98%</td>\n",
       "    </tr>\n",
       "    <tr>\n",
       "      <th>24</th>\n",
       "      <td>25</td>\n",
       "      <td>Captain Marvel</td>\n",
       "      <td>Action, Adventure, Sci-Fi</td>\n",
       "      <td>2019</td>\n",
       "      <td>3</td>\n",
       "      <td>414538774</td>\n",
       "      <td>258,034</td>\n",
       "      <td>7.1</td>\n",
       "      <td>64/100</td>\n",
       "      <td>78%</td>\n",
       "    </tr>\n",
       "    <tr>\n",
       "      <th>25</th>\n",
       "      <td>26</td>\n",
       "      <td>Wonder Woman</td>\n",
       "      <td>Action, Adventure, Fantasy, Sci-Fi, War</td>\n",
       "      <td>2017</td>\n",
       "      <td>6</td>\n",
       "      <td>412563408</td>\n",
       "      <td>477,972</td>\n",
       "      <td>7.5</td>\n",
       "      <td>76/100</td>\n",
       "      <td>93%</td>\n",
       "    </tr>\n",
       "    <tr>\n",
       "      <th>26</th>\n",
       "      <td>27</td>\n",
       "      <td>Iron Man 3</td>\n",
       "      <td>Action, Adventure, Sci-Fi</td>\n",
       "      <td>2013</td>\n",
       "      <td>5</td>\n",
       "      <td>408992272</td>\n",
       "      <td>678,031</td>\n",
       "      <td>7.2</td>\n",
       "      <td>62/100</td>\n",
       "      <td>79%</td>\n",
       "    </tr>\n",
       "    <tr>\n",
       "      <th>27</th>\n",
       "      <td>28</td>\n",
       "      <td>Captain America: Civil War</td>\n",
       "      <td>Action, Adventure, Sci-Fi</td>\n",
       "      <td>2016</td>\n",
       "      <td>5</td>\n",
       "      <td>408084349</td>\n",
       "      <td>574,126</td>\n",
       "      <td>7.8</td>\n",
       "      <td>75/100</td>\n",
       "      <td>91%</td>\n",
       "    </tr>\n",
       "    <tr>\n",
       "      <th>28</th>\n",
       "      <td>29</td>\n",
       "      <td>The Hunger Games</td>\n",
       "      <td>Action, Adventure, Sci-Fi, Thriller</td>\n",
       "      <td>2012</td>\n",
       "      <td>3</td>\n",
       "      <td>408010692</td>\n",
       "      <td>791,962</td>\n",
       "      <td>7.2</td>\n",
       "      <td>68/100</td>\n",
       "      <td>84%</td>\n",
       "    </tr>\n",
       "    <tr>\n",
       "      <th>29</th>\n",
       "      <td>30</td>\n",
       "      <td>Jumanji: Welcome to the Jungle</td>\n",
       "      <td>Action, Adventure, Comedy, Fantasy</td>\n",
       "      <td>2017</td>\n",
       "      <td>12</td>\n",
       "      <td>404508916</td>\n",
       "      <td>236,997</td>\n",
       "      <td>7.0</td>\n",
       "      <td>58/100</td>\n",
       "      <td>76%</td>\n",
       "    </tr>\n",
       "    <tr>\n",
       "      <th>...</th>\n",
       "      <td>...</td>\n",
       "      <td>...</td>\n",
       "      <td>...</td>\n",
       "      <td>...</td>\n",
       "      <td>...</td>\n",
       "      <td>...</td>\n",
       "      <td>...</td>\n",
       "      <td>...</td>\n",
       "      <td>...</td>\n",
       "      <td>...</td>\n",
       "    </tr>\n",
       "    <tr>\n",
       "      <th>1066</th>\n",
       "      <td>1071</td>\n",
       "      <td>The Jerk</td>\n",
       "      <td>Comedy</td>\n",
       "      <td>1979</td>\n",
       "      <td>12</td>\n",
       "      <td>73691419</td>\n",
       "      <td>48,884</td>\n",
       "      <td>7.2</td>\n",
       "      <td>61/100</td>\n",
       "      <td>83%</td>\n",
       "    </tr>\n",
       "    <tr>\n",
       "      <th>1067</th>\n",
       "      <td>1072</td>\n",
       "      <td>Monster House</td>\n",
       "      <td>Animation, Adventure, Comedy, Family, Fantasy,...</td>\n",
       "      <td>2006</td>\n",
       "      <td>7</td>\n",
       "      <td>73661010</td>\n",
       "      <td>88,642</td>\n",
       "      <td>6.6</td>\n",
       "      <td>68/100</td>\n",
       "      <td>74%</td>\n",
       "    </tr>\n",
       "    <tr>\n",
       "      <th>1068</th>\n",
       "      <td>1073</td>\n",
       "      <td>Deep Blue Sea</td>\n",
       "      <td>Action, Adventure, Sci-Fi, Thriller</td>\n",
       "      <td>1999</td>\n",
       "      <td>7</td>\n",
       "      <td>73648228</td>\n",
       "      <td>114,671</td>\n",
       "      <td>5.8</td>\n",
       "      <td>54/100</td>\n",
       "      <td>59%</td>\n",
       "    </tr>\n",
       "    <tr>\n",
       "      <th>1069</th>\n",
       "      <td>1074</td>\n",
       "      <td>Law Abiding Citizen</td>\n",
       "      <td>Crime, Drama, Thriller</td>\n",
       "      <td>2009</td>\n",
       "      <td>10</td>\n",
       "      <td>73357727</td>\n",
       "      <td>251,291</td>\n",
       "      <td>7.4</td>\n",
       "      <td>34/100</td>\n",
       "      <td>26%</td>\n",
       "    </tr>\n",
       "    <tr>\n",
       "      <th>1070</th>\n",
       "      <td>1075</td>\n",
       "      <td>Spirit: Stallion of the Cimarron</td>\n",
       "      <td>Animation, Adventure, Drama, Family, Western</td>\n",
       "      <td>2002</td>\n",
       "      <td>5</td>\n",
       "      <td>73215310</td>\n",
       "      <td>57,092</td>\n",
       "      <td>7.1</td>\n",
       "      <td>52/100</td>\n",
       "      <td>70%</td>\n",
       "    </tr>\n",
       "    <tr>\n",
       "      <th>1071</th>\n",
       "      <td>1076</td>\n",
       "      <td>Hollow Man</td>\n",
       "      <td>Action, Horror, Sci-Fi, Thriller</td>\n",
       "      <td>2000</td>\n",
       "      <td>8</td>\n",
       "      <td>73209340</td>\n",
       "      <td>114,093</td>\n",
       "      <td>5.7</td>\n",
       "      <td>24/100</td>\n",
       "      <td>27%</td>\n",
       "    </tr>\n",
       "    <tr>\n",
       "      <th>1072</th>\n",
       "      <td>1077</td>\n",
       "      <td>Boo! A Madea Halloween</td>\n",
       "      <td>Comedy, Drama, Horror</td>\n",
       "      <td>2016</td>\n",
       "      <td>10</td>\n",
       "      <td>73206343</td>\n",
       "      <td>6,777</td>\n",
       "      <td>4.6</td>\n",
       "      <td>30/100</td>\n",
       "      <td>20%</td>\n",
       "    </tr>\n",
       "    <tr>\n",
       "      <th>1073</th>\n",
       "      <td>1078</td>\n",
       "      <td>Hotel for Dogs</td>\n",
       "      <td>Comedy, Family</td>\n",
       "      <td>2009</td>\n",
       "      <td>1</td>\n",
       "      <td>73178547</td>\n",
       "      <td>19,649</td>\n",
       "      <td>5.4</td>\n",
       "      <td>51/100</td>\n",
       "      <td>46%</td>\n",
       "    </tr>\n",
       "    <tr>\n",
       "      <th>1074</th>\n",
       "      <td>1079</td>\n",
       "      <td>White House Down</td>\n",
       "      <td>Action, Drama, Thriller</td>\n",
       "      <td>2013</td>\n",
       "      <td>6</td>\n",
       "      <td>73103784</td>\n",
       "      <td>190,704</td>\n",
       "      <td>6.4</td>\n",
       "      <td>52/100</td>\n",
       "      <td>51%</td>\n",
       "    </tr>\n",
       "    <tr>\n",
       "      <th>1075</th>\n",
       "      <td>1080</td>\n",
       "      <td>A Madea Family Funeral</td>\n",
       "      <td>Comedy</td>\n",
       "      <td>2019</td>\n",
       "      <td>3</td>\n",
       "      <td>73080657</td>\n",
       "      <td>1,643</td>\n",
       "      <td>4.2</td>\n",
       "      <td>39/100</td>\n",
       "      <td>13%</td>\n",
       "    </tr>\n",
       "    <tr>\n",
       "      <th>1076</th>\n",
       "      <td>1081</td>\n",
       "      <td>John Carter</td>\n",
       "      <td>Action, Adventure, Sci-Fi</td>\n",
       "      <td>2012</td>\n",
       "      <td>3</td>\n",
       "      <td>73058679</td>\n",
       "      <td>238,353</td>\n",
       "      <td>6.6</td>\n",
       "      <td>51/100</td>\n",
       "      <td>52%</td>\n",
       "    </tr>\n",
       "    <tr>\n",
       "      <th>1077</th>\n",
       "      <td>1082</td>\n",
       "      <td>Dinner for Schmucks</td>\n",
       "      <td>Comedy</td>\n",
       "      <td>2010</td>\n",
       "      <td>7</td>\n",
       "      <td>73026337</td>\n",
       "      <td>91,068</td>\n",
       "      <td>5.9</td>\n",
       "      <td>56/100</td>\n",
       "      <td>42%</td>\n",
       "    </tr>\n",
       "    <tr>\n",
       "      <th>1078</th>\n",
       "      <td>1083</td>\n",
       "      <td>Justin Bieber: Never Say Never</td>\n",
       "      <td>Documentary, Music</td>\n",
       "      <td>2011</td>\n",
       "      <td>2</td>\n",
       "      <td>73013910</td>\n",
       "      <td>74,966</td>\n",
       "      <td>1.6</td>\n",
       "      <td>52/100</td>\n",
       "      <td>65%</td>\n",
       "    </tr>\n",
       "    <tr>\n",
       "      <th>1079</th>\n",
       "      <td>1084</td>\n",
       "      <td>Ben-Hur</td>\n",
       "      <td>Adventure, Drama, History</td>\n",
       "      <td>1959</td>\n",
       "      <td>1</td>\n",
       "      <td>73000000</td>\n",
       "      <td>200,732</td>\n",
       "      <td>8.1</td>\n",
       "      <td>90/100</td>\n",
       "      <td>87%</td>\n",
       "    </tr>\n",
       "    <tr>\n",
       "      <th>1080</th>\n",
       "      <td>1085</td>\n",
       "      <td>Barnyard: The Original Party Animals</td>\n",
       "      <td>Animation, Adventure, Comedy, Drama, Family</td>\n",
       "      <td>2006</td>\n",
       "      <td>8</td>\n",
       "      <td>72779000</td>\n",
       "      <td>24,836</td>\n",
       "      <td>5.6</td>\n",
       "      <td>42/100</td>\n",
       "      <td>22%</td>\n",
       "    </tr>\n",
       "    <tr>\n",
       "      <th>1081</th>\n",
       "      <td>1086</td>\n",
       "      <td>Jackass: Number Two</td>\n",
       "      <td>Documentary, Action, Comedy</td>\n",
       "      <td>2006</td>\n",
       "      <td>9</td>\n",
       "      <td>72778712</td>\n",
       "      <td>62,650</td>\n",
       "      <td>7.1</td>\n",
       "      <td>66/100</td>\n",
       "      <td>63%</td>\n",
       "    </tr>\n",
       "    <tr>\n",
       "      <th>1082</th>\n",
       "      <td>1087</td>\n",
       "      <td>The Interpreter</td>\n",
       "      <td>Crime, Mystery, Thriller</td>\n",
       "      <td>2005</td>\n",
       "      <td>4</td>\n",
       "      <td>72708161</td>\n",
       "      <td>93,041</td>\n",
       "      <td>6.4</td>\n",
       "      <td>62/100</td>\n",
       "      <td>57%</td>\n",
       "    </tr>\n",
       "    <tr>\n",
       "      <th>1083</th>\n",
       "      <td>1088</td>\n",
       "      <td>Hercules</td>\n",
       "      <td>Action, Adventure, Fantasy</td>\n",
       "      <td>2014</td>\n",
       "      <td>7</td>\n",
       "      <td>72688614</td>\n",
       "      <td>136,755</td>\n",
       "      <td>6.0</td>\n",
       "      <td>47/100</td>\n",
       "      <td>58%</td>\n",
       "    </tr>\n",
       "    <tr>\n",
       "      <th>1084</th>\n",
       "      <td>1089</td>\n",
       "      <td>Storks</td>\n",
       "      <td>Animation, Adventure, Comedy, Family, Fantasy</td>\n",
       "      <td>2016</td>\n",
       "      <td>9</td>\n",
       "      <td>72679278</td>\n",
       "      <td>49,916</td>\n",
       "      <td>6.8</td>\n",
       "      <td>56/100</td>\n",
       "      <td>65%</td>\n",
       "    </tr>\n",
       "    <tr>\n",
       "      <th>1085</th>\n",
       "      <td>1090</td>\n",
       "      <td>Bridge of Spies</td>\n",
       "      <td>Drama, History, Thriller</td>\n",
       "      <td>2015</td>\n",
       "      <td>10</td>\n",
       "      <td>72313754</td>\n",
       "      <td>260,812</td>\n",
       "      <td>7.6</td>\n",
       "      <td>81/100</td>\n",
       "      <td>91%</td>\n",
       "    </tr>\n",
       "    <tr>\n",
       "      <th>1086</th>\n",
       "      <td>1091</td>\n",
       "      <td>Dolphin Tale</td>\n",
       "      <td>Drama, Family</td>\n",
       "      <td>2011</td>\n",
       "      <td>9</td>\n",
       "      <td>72286779</td>\n",
       "      <td>20,607</td>\n",
       "      <td>6.9</td>\n",
       "      <td>64/100</td>\n",
       "      <td>81%</td>\n",
       "    </tr>\n",
       "    <tr>\n",
       "      <th>1087</th>\n",
       "      <td>1092</td>\n",
       "      <td>Vantage Point</td>\n",
       "      <td>Action, Crime, Drama, Mystery, Thriller</td>\n",
       "      <td>2008</td>\n",
       "      <td>2</td>\n",
       "      <td>72266306</td>\n",
       "      <td>138,477</td>\n",
       "      <td>6.6</td>\n",
       "      <td>40/100</td>\n",
       "      <td>34%</td>\n",
       "    </tr>\n",
       "    <tr>\n",
       "      <th>1088</th>\n",
       "      <td>1093</td>\n",
       "      <td>I Know What You Did Last Summer</td>\n",
       "      <td>Horror, Mystery</td>\n",
       "      <td>1997</td>\n",
       "      <td>10</td>\n",
       "      <td>72250091</td>\n",
       "      <td>122,670</td>\n",
       "      <td>5.7</td>\n",
       "      <td>52/100</td>\n",
       "      <td>42%</td>\n",
       "    </tr>\n",
       "    <tr>\n",
       "      <th>1089</th>\n",
       "      <td>1094</td>\n",
       "      <td>Ace Ventura: Pet Detective</td>\n",
       "      <td>Comedy</td>\n",
       "      <td>1994</td>\n",
       "      <td>2</td>\n",
       "      <td>72217396</td>\n",
       "      <td>254,065</td>\n",
       "      <td>6.9</td>\n",
       "      <td>37/100</td>\n",
       "      <td>47%</td>\n",
       "    </tr>\n",
       "    <tr>\n",
       "      <th>1090</th>\n",
       "      <td>1095</td>\n",
       "      <td>A Bad Moms Christmas</td>\n",
       "      <td>Adventure, Comedy</td>\n",
       "      <td>2017</td>\n",
       "      <td>11</td>\n",
       "      <td>72110659</td>\n",
       "      <td>32,335</td>\n",
       "      <td>5.5</td>\n",
       "      <td>42/100</td>\n",
       "      <td>30%</td>\n",
       "    </tr>\n",
       "    <tr>\n",
       "      <th>1091</th>\n",
       "      <td>1096</td>\n",
       "      <td>Michael Jackson's This Is It</td>\n",
       "      <td>Documentary</td>\n",
       "      <td>2009</td>\n",
       "      <td>1</td>\n",
       "      <td>72091016</td>\n",
       "      <td>26</td>\n",
       "      <td>8.2</td>\n",
       "      <td>NaN</td>\n",
       "      <td>NaN</td>\n",
       "    </tr>\n",
       "    <tr>\n",
       "      <th>1092</th>\n",
       "      <td>1097</td>\n",
       "      <td>10 Cloverfield Lane</td>\n",
       "      <td>Drama, Horror, Mystery, Sci-Fi, Thriller</td>\n",
       "      <td>2016</td>\n",
       "      <td>3</td>\n",
       "      <td>72082999</td>\n",
       "      <td>257,525</td>\n",
       "      <td>7.2</td>\n",
       "      <td>76/100</td>\n",
       "      <td>90%</td>\n",
       "    </tr>\n",
       "    <tr>\n",
       "      <th>1093</th>\n",
       "      <td>1098</td>\n",
       "      <td>Get Shorty</td>\n",
       "      <td>Comedy, Crime, Thriller</td>\n",
       "      <td>1995</td>\n",
       "      <td>10</td>\n",
       "      <td>72021008</td>\n",
       "      <td>70,696</td>\n",
       "      <td>6.9</td>\n",
       "      <td>82/100</td>\n",
       "      <td>87%</td>\n",
       "    </tr>\n",
       "    <tr>\n",
       "      <th>1094</th>\n",
       "      <td>1099</td>\n",
       "      <td>I Love You, Man</td>\n",
       "      <td>Comedy, Romance</td>\n",
       "      <td>2009</td>\n",
       "      <td>3</td>\n",
       "      <td>72013010</td>\n",
       "      <td>185,149</td>\n",
       "      <td>7.0</td>\n",
       "      <td>70/100</td>\n",
       "      <td>83%</td>\n",
       "    </tr>\n",
       "    <tr>\n",
       "      <th>1095</th>\n",
       "      <td>1100</td>\n",
       "      <td>Fred Claus</td>\n",
       "      <td>Comedy, Family, Fantasy</td>\n",
       "      <td>2007</td>\n",
       "      <td>11</td>\n",
       "      <td>72006777</td>\n",
       "      <td>37,050</td>\n",
       "      <td>5.6</td>\n",
       "      <td>42/100</td>\n",
       "      <td>20%</td>\n",
       "    </tr>\n",
       "  </tbody>\n",
       "</table>\n",
       "<p>1096 rows × 10 columns</p>\n",
       "</div>"
      ],
      "text/plain": [
       "      Rank                                       Movie  \\\n",
       "0        1        Star Wars Ep. VII: The Force Awakens   \n",
       "1        2                                      Avatar   \n",
       "2        3                               Black Panther   \n",
       "3        4                      Avengers: Infinity War   \n",
       "4        5                                     Titanic   \n",
       "5        6                              Jurassic World   \n",
       "6        7                                The Avengers   \n",
       "7        8           Star Wars Ep. VIII: The Last Jedi   \n",
       "8        9                               Incredibles 2   \n",
       "9       10                             The Dark Knight   \n",
       "10      11                Rogue One: A Star Wars Story   \n",
       "11      12                        Beauty and the Beast   \n",
       "12      13                                Finding Dory   \n",
       "13      14         Star Wars Ep. I: The Phantom Menace   \n",
       "14      15                Star Wars Ep. IV: A New Hope   \n",
       "15      16                     Avengers: Age of Ultron   \n",
       "16      17                       The Dark Knight Rises   \n",
       "17      18                                     Shrek 2   \n",
       "18      19                   ET: The Extra-Terrestrial   \n",
       "19      20             The Hunger Games: Catching Fire   \n",
       "20      21  Pirates of the Caribbean: Dead Man's Chest   \n",
       "21      22                               The Lion King   \n",
       "22      23              Jurassic World: Fallen Kingdom   \n",
       "23      24                                 Toy Story 3   \n",
       "24      25                              Captain Marvel   \n",
       "25      26                                Wonder Woman   \n",
       "26      27                                  Iron Man 3   \n",
       "27      28                  Captain America: Civil War   \n",
       "28      29                            The Hunger Games   \n",
       "29      30              Jumanji: Welcome to the Jungle   \n",
       "...    ...                                         ...   \n",
       "1066  1071                                    The Jerk   \n",
       "1067  1072                               Monster House   \n",
       "1068  1073                               Deep Blue Sea   \n",
       "1069  1074                         Law Abiding Citizen   \n",
       "1070  1075            Spirit: Stallion of the Cimarron   \n",
       "1071  1076                                  Hollow Man   \n",
       "1072  1077                      Boo! A Madea Halloween   \n",
       "1073  1078                              Hotel for Dogs   \n",
       "1074  1079                            White House Down   \n",
       "1075  1080                      A Madea Family Funeral   \n",
       "1076  1081                                 John Carter   \n",
       "1077  1082                         Dinner for Schmucks   \n",
       "1078  1083              Justin Bieber: Never Say Never   \n",
       "1079  1084                                     Ben-Hur   \n",
       "1080  1085        Barnyard: The Original Party Animals   \n",
       "1081  1086                         Jackass: Number Two   \n",
       "1082  1087                             The Interpreter   \n",
       "1083  1088                                    Hercules   \n",
       "1084  1089                                      Storks   \n",
       "1085  1090                             Bridge of Spies   \n",
       "1086  1091                                Dolphin Tale   \n",
       "1087  1092                               Vantage Point   \n",
       "1088  1093             I Know What You Did Last Summer   \n",
       "1089  1094                  Ace Ventura: Pet Detective   \n",
       "1090  1095                        A Bad Moms Christmas   \n",
       "1091  1096                Michael Jackson's This Is It   \n",
       "1092  1097                         10 Cloverfield Lane   \n",
       "1093  1098                                  Get Shorty   \n",
       "1094  1099                             I Love You, Man   \n",
       "1095  1100                                  Fred Claus   \n",
       "\n",
       "                                                  Genre  Year  Month  \\\n",
       "0                    Action, Adventure, Fantasy, Sci-Fi  2015     12   \n",
       "1                    Action, Adventure, Fantasy, Sci-Fi  2009     12   \n",
       "2                             Action, Adventure, Sci-Fi  2018      2   \n",
       "3                             Action, Adventure, Sci-Fi  2018      4   \n",
       "4                                        Drama, Romance  1997     12   \n",
       "5                             Action, Adventure, Sci-Fi  2015      6   \n",
       "6                             Action, Adventure, Sci-Fi  2012      5   \n",
       "7                    Action, Adventure, Fantasy, Sci-Fi  2017     12   \n",
       "8     Animation, Action, Adventure, Comedy, Family, ...  2018      6   \n",
       "9                        Action, Crime, Drama, Thriller  2008      7   \n",
       "10                            Action, Adventure, Sci-Fi  2016     12   \n",
       "11                    Family, Fantasy, Musical, Romance  2017      3   \n",
       "12                 Animation, Adventure, Comedy, Family  2016      6   \n",
       "13                   Action, Adventure, Fantasy, Sci-Fi  1999      5   \n",
       "14                   Action, Adventure, Fantasy, Sci-Fi  1977      5   \n",
       "15                            Action, Adventure, Sci-Fi  2015      5   \n",
       "16                                     Action, Thriller  2012      7   \n",
       "17    Animation, Adventure, Comedy, Family, Fantasy,...  2004      5   \n",
       "18                                       Family, Sci-Fi  1982      6   \n",
       "19                  Action, Adventure, Sci-Fi, Thriller  2013     11   \n",
       "20                           Action, Adventure, Fantasy  2006      7   \n",
       "21         Animation, Adventure, Drama, Family, Musical  1994      6   \n",
       "22                            Action, Adventure, Sci-Fi  2018      6   \n",
       "23        Animation, Adventure, Comedy, Family, Fantasy  2010      6   \n",
       "24                            Action, Adventure, Sci-Fi  2019      3   \n",
       "25              Action, Adventure, Fantasy, Sci-Fi, War  2017      6   \n",
       "26                            Action, Adventure, Sci-Fi  2013      5   \n",
       "27                            Action, Adventure, Sci-Fi  2016      5   \n",
       "28                  Action, Adventure, Sci-Fi, Thriller  2012      3   \n",
       "29                   Action, Adventure, Comedy, Fantasy  2017     12   \n",
       "...                                                 ...   ...    ...   \n",
       "1066                                             Comedy  1979     12   \n",
       "1067  Animation, Adventure, Comedy, Family, Fantasy,...  2006      7   \n",
       "1068                Action, Adventure, Sci-Fi, Thriller  1999      7   \n",
       "1069                             Crime, Drama, Thriller  2009     10   \n",
       "1070       Animation, Adventure, Drama, Family, Western  2002      5   \n",
       "1071                   Action, Horror, Sci-Fi, Thriller  2000      8   \n",
       "1072                              Comedy, Drama, Horror  2016     10   \n",
       "1073                                     Comedy, Family  2009      1   \n",
       "1074                            Action, Drama, Thriller  2013      6   \n",
       "1075                                             Comedy  2019      3   \n",
       "1076                          Action, Adventure, Sci-Fi  2012      3   \n",
       "1077                                             Comedy  2010      7   \n",
       "1078                                 Documentary, Music  2011      2   \n",
       "1079                          Adventure, Drama, History  1959      1   \n",
       "1080        Animation, Adventure, Comedy, Drama, Family  2006      8   \n",
       "1081                        Documentary, Action, Comedy  2006      9   \n",
       "1082                           Crime, Mystery, Thriller  2005      4   \n",
       "1083                         Action, Adventure, Fantasy  2014      7   \n",
       "1084      Animation, Adventure, Comedy, Family, Fantasy  2016      9   \n",
       "1085                           Drama, History, Thriller  2015     10   \n",
       "1086                                      Drama, Family  2011      9   \n",
       "1087            Action, Crime, Drama, Mystery, Thriller  2008      2   \n",
       "1088                                    Horror, Mystery  1997     10   \n",
       "1089                                             Comedy  1994      2   \n",
       "1090                                  Adventure, Comedy  2017     11   \n",
       "1091                                        Documentary  2009      1   \n",
       "1092           Drama, Horror, Mystery, Sci-Fi, Thriller  2016      3   \n",
       "1093                            Comedy, Crime, Thriller  1995     10   \n",
       "1094                                    Comedy, Romance  2009      3   \n",
       "1095                            Comedy, Family, Fantasy  2007     11   \n",
       "\n",
       "      DomesticBox Office IMDb Votes  IMDb Ratings Metacritic Rotten Tomatoes  \n",
       "0              936662225    778,602           8.0     81/100             92%  \n",
       "1              760507625  1,038,709           7.8     83/100             82%  \n",
       "2              700059566    501,220           7.3     88/100             97%  \n",
       "3              678815482    641,255           8.5     68/100             85%  \n",
       "4              659363944    946,032           7.8     75/100             89%  \n",
       "5              652270625    534,122           7.0     59/100             72%  \n",
       "6              623279547  1,165,317           8.1     69/100             92%  \n",
       "7              620181382    455,389           7.2     85/100             91%  \n",
       "8              608581744    192,447           7.7     80/100             94%  \n",
       "9              533720947  2,039,506           9.0     84/100             94%  \n",
       "10             532177324    470,865           7.8     65/100             84%  \n",
       "11             504014165    234,189           7.2     65/100             71%  \n",
       "12             486295561    211,743           7.3     77/100             94%  \n",
       "13             474544677    649,320           6.5     51/100             54%  \n",
       "14             460998007  1,109,357           8.6     90/100             93%  \n",
       "15             459005868    654,822           7.3     66/100             75%  \n",
       "16             448139099  1,372,667           8.4     78/100             87%  \n",
       "17             441226247    378,707           7.2     75/100             89%  \n",
       "18             435110554    335,539           7.9     91/100             98%  \n",
       "19             424668047    571,535           7.5     76/100             89%  \n",
       "20             423315812    608,558           7.3     53/100             53%  \n",
       "21             421785283    823,703           8.5     83/100             93%  \n",
       "22             417719760    209,444           6.2     51/100             48%  \n",
       "23             415004880    673,530           8.3     92/100             98%  \n",
       "24             414538774    258,034           7.1     64/100             78%  \n",
       "25             412563408    477,972           7.5     76/100             93%  \n",
       "26             408992272    678,031           7.2     62/100             79%  \n",
       "27             408084349    574,126           7.8     75/100             91%  \n",
       "28             408010692    791,962           7.2     68/100             84%  \n",
       "29             404508916    236,997           7.0     58/100             76%  \n",
       "...                  ...        ...           ...        ...             ...  \n",
       "1066            73691419     48,884           7.2     61/100             83%  \n",
       "1067            73661010     88,642           6.6     68/100             74%  \n",
       "1068            73648228    114,671           5.8     54/100             59%  \n",
       "1069            73357727    251,291           7.4     34/100             26%  \n",
       "1070            73215310     57,092           7.1     52/100             70%  \n",
       "1071            73209340    114,093           5.7     24/100             27%  \n",
       "1072            73206343      6,777           4.6     30/100             20%  \n",
       "1073            73178547     19,649           5.4     51/100             46%  \n",
       "1074            73103784    190,704           6.4     52/100             51%  \n",
       "1075            73080657      1,643           4.2     39/100             13%  \n",
       "1076            73058679    238,353           6.6     51/100             52%  \n",
       "1077            73026337     91,068           5.9     56/100             42%  \n",
       "1078            73013910     74,966           1.6     52/100             65%  \n",
       "1079            73000000    200,732           8.1     90/100             87%  \n",
       "1080            72779000     24,836           5.6     42/100             22%  \n",
       "1081            72778712     62,650           7.1     66/100             63%  \n",
       "1082            72708161     93,041           6.4     62/100             57%  \n",
       "1083            72688614    136,755           6.0     47/100             58%  \n",
       "1084            72679278     49,916           6.8     56/100             65%  \n",
       "1085            72313754    260,812           7.6     81/100             91%  \n",
       "1086            72286779     20,607           6.9     64/100             81%  \n",
       "1087            72266306    138,477           6.6     40/100             34%  \n",
       "1088            72250091    122,670           5.7     52/100             42%  \n",
       "1089            72217396    254,065           6.9     37/100             47%  \n",
       "1090            72110659     32,335           5.5     42/100             30%  \n",
       "1091            72091016         26           8.2        NaN             NaN  \n",
       "1092            72082999    257,525           7.2     76/100             90%  \n",
       "1093            72021008     70,696           6.9     82/100             87%  \n",
       "1094            72013010    185,149           7.0     70/100             83%  \n",
       "1095            72006777     37,050           5.6     42/100             20%  \n",
       "\n",
       "[1096 rows x 10 columns]"
      ]
     },
     "execution_count": 20,
     "metadata": {},
     "output_type": "execute_result"
    }
   ],
   "source": [
    "# Read the cleaned data\n",
    "df = pd.read_csv('./data/omdb_cleaned.csv')\n",
    "df"
   ]
  },
  {
   "cell_type": "markdown",
   "metadata": {},
   "source": [
    "In exploratory analysis, we firstly want to describe our data using `pd.DataFrame.describe()`."
   ]
  },
  {
   "cell_type": "code",
   "execution_count": 21,
   "metadata": {},
   "outputs": [
    {
     "data": {
      "text/html": [
       "<div>\n",
       "<style scoped>\n",
       "    .dataframe tbody tr th:only-of-type {\n",
       "        vertical-align: middle;\n",
       "    }\n",
       "\n",
       "    .dataframe tbody tr th {\n",
       "        vertical-align: top;\n",
       "    }\n",
       "\n",
       "    .dataframe thead th {\n",
       "        text-align: right;\n",
       "    }\n",
       "</style>\n",
       "<table border=\"1\" class=\"dataframe\">\n",
       "  <thead>\n",
       "    <tr style=\"text-align: right;\">\n",
       "      <th></th>\n",
       "      <th>Rank</th>\n",
       "      <th>Year</th>\n",
       "      <th>Month</th>\n",
       "      <th>DomesticBox Office</th>\n",
       "      <th>IMDb Ratings</th>\n",
       "    </tr>\n",
       "  </thead>\n",
       "  <tbody>\n",
       "    <tr>\n",
       "      <th>count</th>\n",
       "      <td>1096.000000</td>\n",
       "      <td>1096.000000</td>\n",
       "      <td>1096.000000</td>\n",
       "      <td>1.096000e+03</td>\n",
       "      <td>1096.000000</td>\n",
       "    </tr>\n",
       "    <tr>\n",
       "      <th>mean</th>\n",
       "      <td>551.400547</td>\n",
       "      <td>2003.415146</td>\n",
       "      <td>7.190693</td>\n",
       "      <td>1.500567e+08</td>\n",
       "      <td>6.806387</td>\n",
       "    </tr>\n",
       "    <tr>\n",
       "      <th>std</th>\n",
       "      <td>317.860478</td>\n",
       "      <td>12.263027</td>\n",
       "      <td>3.326817</td>\n",
       "      <td>9.448059e+07</td>\n",
       "      <td>0.927507</td>\n",
       "    </tr>\n",
       "    <tr>\n",
       "      <th>min</th>\n",
       "      <td>1.000000</td>\n",
       "      <td>1937.000000</td>\n",
       "      <td>1.000000</td>\n",
       "      <td>7.200678e+07</td>\n",
       "      <td>1.600000</td>\n",
       "    </tr>\n",
       "    <tr>\n",
       "      <th>25%</th>\n",
       "      <td>276.750000</td>\n",
       "      <td>1998.000000</td>\n",
       "      <td>5.000000</td>\n",
       "      <td>9.039504e+07</td>\n",
       "      <td>6.300000</td>\n",
       "    </tr>\n",
       "    <tr>\n",
       "      <th>50%</th>\n",
       "      <td>552.500000</td>\n",
       "      <td>2006.000000</td>\n",
       "      <td>7.000000</td>\n",
       "      <td>1.185329e+08</td>\n",
       "      <td>6.900000</td>\n",
       "    </tr>\n",
       "    <tr>\n",
       "      <th>75%</th>\n",
       "      <td>826.250000</td>\n",
       "      <td>2012.000000</td>\n",
       "      <td>11.000000</td>\n",
       "      <td>1.731501e+08</td>\n",
       "      <td>7.425000</td>\n",
       "    </tr>\n",
       "    <tr>\n",
       "      <th>max</th>\n",
       "      <td>1100.000000</td>\n",
       "      <td>2019.000000</td>\n",
       "      <td>12.000000</td>\n",
       "      <td>9.366622e+08</td>\n",
       "      <td>9.200000</td>\n",
       "    </tr>\n",
       "  </tbody>\n",
       "</table>\n",
       "</div>"
      ],
      "text/plain": [
       "              Rank         Year        Month  DomesticBox Office  IMDb Ratings\n",
       "count  1096.000000  1096.000000  1096.000000        1.096000e+03   1096.000000\n",
       "mean    551.400547  2003.415146     7.190693        1.500567e+08      6.806387\n",
       "std     317.860478    12.263027     3.326817        9.448059e+07      0.927507\n",
       "min       1.000000  1937.000000     1.000000        7.200678e+07      1.600000\n",
       "25%     276.750000  1998.000000     5.000000        9.039504e+07      6.300000\n",
       "50%     552.500000  2006.000000     7.000000        1.185329e+08      6.900000\n",
       "75%     826.250000  2012.000000    11.000000        1.731501e+08      7.425000\n",
       "max    1100.000000  2019.000000    12.000000        9.366622e+08      9.200000"
      ]
     },
     "execution_count": 21,
     "metadata": {},
     "output_type": "execute_result"
    }
   ],
   "source": [
    "df.describe()"
   ]
  },
  {
   "cell_type": "code",
   "execution_count": 22,
   "metadata": {},
   "outputs": [
    {
     "data": {
      "text/plain": [
       "Action, Adventure, Sci-Fi                                        50\n",
       "Comedy                                                           46\n",
       "Comedy, Romance                                                  37\n",
       "Comedy, Drama, Romance                                           30\n",
       "Animation, Adventure, Comedy, Family, Fantasy                    28\n",
       "Action, Adventure, Sci-Fi, Thriller                              26\n",
       "Action, Adventure, Thriller                                      23\n",
       "Action, Adventure, Fantasy, Sci-Fi                               21\n",
       "Action, Crime, Thriller                                          18\n",
       "Crime, Drama, Thriller                                           16\n",
       "Drama, Romance                                                   15\n",
       "Comedy, Drama                                                    14\n",
       "Action, Adventure, Fantasy                                       13\n",
       "Animation, Adventure, Comedy, Family                             13\n",
       "Drama                                                            12\n",
       "Comedy, Crime                                                    12\n",
       "Adventure, Family, Fantasy                                       11\n",
       "Action, Thriller                                                 11\n",
       "Action, Comedy, Crime                                            11\n",
       "Adventure, Comedy, Family, Fantasy                               10\n",
       "Horror, Mystery, Thriller                                        10\n",
       "Action, Adventure, Comedy, Sci-Fi                                 9\n",
       "Crime, Drama, Mystery, Thriller                                   9\n",
       "Action, Sci-Fi                                                    9\n",
       "Comedy, Family, Fantasy                                           9\n",
       "Drama, Thriller                                                   9\n",
       "Animation, Action, Adventure, Comedy, Family, Fantasy             8\n",
       "Biography, Drama                                                  8\n",
       "Action, Comedy, Crime, Thriller                                   8\n",
       "Drama, Sport                                                      8\n",
       "                                                                 ..\n",
       "Comedy, Drama, Sport                                              1\n",
       "Action, Adventure, Comedy, Mystery, Sci-Fi                        1\n",
       "Animation, Action, Adventure, Family, Sci-Fi                      1\n",
       "Comedy, Drama, Family, Music, Musical, Romance                    1\n",
       "Action, Adventure, Crime                                          1\n",
       "Biography, Comedy, Drama, War                                     1\n",
       "Action, Drama, Music, Thriller                                    1\n",
       "Action, Drama, Mystery, Sci-Fi                                    1\n",
       "Animation, Adventure, Comedy, Drama, Family, Fantasy, Sci-Fi      1\n",
       "Adventure, Comedy, Mystery, Sci-Fi                                1\n",
       "Action, Adventure, Family, Fantasy, Sci-Fi                        1\n",
       "Action, Mystery, Sci-Fi, Thriller                                 1\n",
       "Animation, Action, Adventure, Family, Fantasy, Sci-Fi, Sport      1\n",
       "Adventure, Thriller                                               1\n",
       "Action, Adventure, Comedy, Family, Romance                        1\n",
       "Biography, Drama, Thriller, War                                   1\n",
       "Animation, Adventure, Drama, Family, Fantasy, Musical             1\n",
       "Action, Drama, Sport                                              1\n",
       "Action, Drama, Family, Sport                                      1\n",
       "Animation, Family, Fantasy, Music                                 1\n",
       "Action, Crime, Romance, Thriller                                  1\n",
       "Animation, Adventure, Comedy, Fantasy                             1\n",
       "Animation, Action, Adventure, Family, Fantasy, Sci-Fi             1\n",
       "Animation, Action, Adventure, Fantasy                             1\n",
       "Action, Fantasy, War                                              1\n",
       "Documentary, Family                                               1\n",
       "Animation, Adventure, Family, Musical                             1\n",
       "Adventure, Comedy, Family, Sci-Fi                                 1\n",
       "Drama, Music, Musical                                             1\n",
       "Animation, Adventure, Comedy, Family, Music, Musical, Romance     1\n",
       "Name: Genre, Length: 374, dtype: int64"
      ]
     },
     "execution_count": 22,
     "metadata": {},
     "output_type": "execute_result"
    }
   ],
   "source": [
    "df['Genre'].value_counts()"
   ]
  },
  {
   "cell_type": "code",
   "execution_count": 23,
   "metadata": {},
   "outputs": [
    {
     "data": {
      "text/plain": [
       "(0.006855085213249209, 0.820666827309)"
      ]
     },
     "execution_count": 23,
     "metadata": {},
     "output_type": "execute_result"
    }
   ],
   "source": [
    "import scipy.stats as st\n",
    "st.pearsonr(df['Month'], df['DomesticBox Office'])"
   ]
  },
  {
   "cell_type": "code",
   "execution_count": 24,
   "metadata": {},
   "outputs": [
    {
     "data": {
      "text/plain": [
       "F_onewayResult(statistic=2764.6254178122613, pvalue=0.0)"
      ]
     },
     "execution_count": 24,
     "metadata": {},
     "output_type": "execute_result"
    }
   ],
   "source": [
    "st.f_oneway(df['Month'], df['DomesticBox Office'])"
   ]
  },
  {
   "cell_type": "markdown",
   "metadata": {},
   "source": [
    "Now, let's take a look at the top 5 and bottom 5 rows to see how the data is presented to us and get a feel of our data."
   ]
  },
  {
   "cell_type": "code",
   "execution_count": 25,
   "metadata": {},
   "outputs": [
    {
     "data": {
      "text/html": [
       "<div>\n",
       "<style scoped>\n",
       "    .dataframe tbody tr th:only-of-type {\n",
       "        vertical-align: middle;\n",
       "    }\n",
       "\n",
       "    .dataframe tbody tr th {\n",
       "        vertical-align: top;\n",
       "    }\n",
       "\n",
       "    .dataframe thead th {\n",
       "        text-align: right;\n",
       "    }\n",
       "</style>\n",
       "<table border=\"1\" class=\"dataframe\">\n",
       "  <thead>\n",
       "    <tr style=\"text-align: right;\">\n",
       "      <th></th>\n",
       "      <th>Rank</th>\n",
       "      <th>Movie</th>\n",
       "      <th>Genre</th>\n",
       "      <th>Year</th>\n",
       "      <th>Month</th>\n",
       "      <th>DomesticBox Office</th>\n",
       "      <th>IMDb Votes</th>\n",
       "      <th>IMDb Ratings</th>\n",
       "      <th>Metacritic</th>\n",
       "      <th>Rotten Tomatoes</th>\n",
       "    </tr>\n",
       "  </thead>\n",
       "  <tbody>\n",
       "    <tr>\n",
       "      <th>26</th>\n",
       "      <td>27</td>\n",
       "      <td>Iron Man 3</td>\n",
       "      <td>Action, Adventure, Sci-Fi</td>\n",
       "      <td>2013</td>\n",
       "      <td>5</td>\n",
       "      <td>408992272</td>\n",
       "      <td>678,031</td>\n",
       "      <td>7.2</td>\n",
       "      <td>62/100</td>\n",
       "      <td>79%</td>\n",
       "    </tr>\n",
       "    <tr>\n",
       "      <th>67</th>\n",
       "      <td>68</td>\n",
       "      <td>Iron Man</td>\n",
       "      <td>Action, Adventure, Sci-Fi</td>\n",
       "      <td>2008</td>\n",
       "      <td>5</td>\n",
       "      <td>318604126</td>\n",
       "      <td>854,168</td>\n",
       "      <td>7.9</td>\n",
       "      <td>79/100</td>\n",
       "      <td>93%</td>\n",
       "    </tr>\n",
       "    <tr>\n",
       "      <th>72</th>\n",
       "      <td>73</td>\n",
       "      <td>Iron Man 2</td>\n",
       "      <td>Action, Adventure, Sci-Fi</td>\n",
       "      <td>2010</td>\n",
       "      <td>5</td>\n",
       "      <td>312433331</td>\n",
       "      <td>650,168</td>\n",
       "      <td>7.0</td>\n",
       "      <td>57/100</td>\n",
       "      <td>73%</td>\n",
       "    </tr>\n",
       "  </tbody>\n",
       "</table>\n",
       "</div>"
      ],
      "text/plain": [
       "    Rank       Movie                      Genre  Year  Month  \\\n",
       "26    27  Iron Man 3  Action, Adventure, Sci-Fi  2013      5   \n",
       "67    68    Iron Man  Action, Adventure, Sci-Fi  2008      5   \n",
       "72    73  Iron Man 2  Action, Adventure, Sci-Fi  2010      5   \n",
       "\n",
       "    DomesticBox Office IMDb Votes  IMDb Ratings Metacritic Rotten Tomatoes  \n",
       "26           408992272    678,031           7.2     62/100             79%  \n",
       "67           318604126    854,168           7.9     79/100             93%  \n",
       "72           312433331    650,168           7.0     57/100             73%  "
      ]
     },
     "execution_count": 25,
     "metadata": {},
     "output_type": "execute_result"
    }
   ],
   "source": [
    "df.head()\n",
    "df[df['Movie'].str.contains(\"Iron Man\")]"
   ]
  },
  {
   "cell_type": "code",
   "execution_count": 26,
   "metadata": {},
   "outputs": [
    {
     "data": {
      "text/html": [
       "<div>\n",
       "<style scoped>\n",
       "    .dataframe tbody tr th:only-of-type {\n",
       "        vertical-align: middle;\n",
       "    }\n",
       "\n",
       "    .dataframe tbody tr th {\n",
       "        vertical-align: top;\n",
       "    }\n",
       "\n",
       "    .dataframe thead th {\n",
       "        text-align: right;\n",
       "    }\n",
       "</style>\n",
       "<table border=\"1\" class=\"dataframe\">\n",
       "  <thead>\n",
       "    <tr style=\"text-align: right;\">\n",
       "      <th></th>\n",
       "      <th>Rank</th>\n",
       "      <th>Movie</th>\n",
       "      <th>Genre</th>\n",
       "      <th>Year</th>\n",
       "      <th>Month</th>\n",
       "      <th>DomesticBox Office</th>\n",
       "      <th>IMDb Votes</th>\n",
       "      <th>IMDb Ratings</th>\n",
       "      <th>Metacritic</th>\n",
       "      <th>Rotten Tomatoes</th>\n",
       "    </tr>\n",
       "  </thead>\n",
       "  <tbody>\n",
       "    <tr>\n",
       "      <th>1091</th>\n",
       "      <td>1096</td>\n",
       "      <td>Michael Jackson's This Is It</td>\n",
       "      <td>Documentary</td>\n",
       "      <td>2009</td>\n",
       "      <td>1</td>\n",
       "      <td>72091016</td>\n",
       "      <td>26</td>\n",
       "      <td>8.2</td>\n",
       "      <td>NaN</td>\n",
       "      <td>NaN</td>\n",
       "    </tr>\n",
       "    <tr>\n",
       "      <th>1092</th>\n",
       "      <td>1097</td>\n",
       "      <td>10 Cloverfield Lane</td>\n",
       "      <td>Drama, Horror, Mystery, Sci-Fi, Thriller</td>\n",
       "      <td>2016</td>\n",
       "      <td>3</td>\n",
       "      <td>72082999</td>\n",
       "      <td>257,525</td>\n",
       "      <td>7.2</td>\n",
       "      <td>76/100</td>\n",
       "      <td>90%</td>\n",
       "    </tr>\n",
       "    <tr>\n",
       "      <th>1093</th>\n",
       "      <td>1098</td>\n",
       "      <td>Get Shorty</td>\n",
       "      <td>Comedy, Crime, Thriller</td>\n",
       "      <td>1995</td>\n",
       "      <td>10</td>\n",
       "      <td>72021008</td>\n",
       "      <td>70,696</td>\n",
       "      <td>6.9</td>\n",
       "      <td>82/100</td>\n",
       "      <td>87%</td>\n",
       "    </tr>\n",
       "    <tr>\n",
       "      <th>1094</th>\n",
       "      <td>1099</td>\n",
       "      <td>I Love You, Man</td>\n",
       "      <td>Comedy, Romance</td>\n",
       "      <td>2009</td>\n",
       "      <td>3</td>\n",
       "      <td>72013010</td>\n",
       "      <td>185,149</td>\n",
       "      <td>7.0</td>\n",
       "      <td>70/100</td>\n",
       "      <td>83%</td>\n",
       "    </tr>\n",
       "    <tr>\n",
       "      <th>1095</th>\n",
       "      <td>1100</td>\n",
       "      <td>Fred Claus</td>\n",
       "      <td>Comedy, Family, Fantasy</td>\n",
       "      <td>2007</td>\n",
       "      <td>11</td>\n",
       "      <td>72006777</td>\n",
       "      <td>37,050</td>\n",
       "      <td>5.6</td>\n",
       "      <td>42/100</td>\n",
       "      <td>20%</td>\n",
       "    </tr>\n",
       "  </tbody>\n",
       "</table>\n",
       "</div>"
      ],
      "text/plain": [
       "      Rank                         Movie  \\\n",
       "1091  1096  Michael Jackson's This Is It   \n",
       "1092  1097           10 Cloverfield Lane   \n",
       "1093  1098                    Get Shorty   \n",
       "1094  1099               I Love You, Man   \n",
       "1095  1100                    Fred Claus   \n",
       "\n",
       "                                         Genre  Year  Month  \\\n",
       "1091                               Documentary  2009      1   \n",
       "1092  Drama, Horror, Mystery, Sci-Fi, Thriller  2016      3   \n",
       "1093                   Comedy, Crime, Thriller  1995     10   \n",
       "1094                           Comedy, Romance  2009      3   \n",
       "1095                   Comedy, Family, Fantasy  2007     11   \n",
       "\n",
       "      DomesticBox Office IMDb Votes  IMDb Ratings Metacritic Rotten Tomatoes  \n",
       "1091            72091016         26           8.2        NaN             NaN  \n",
       "1092            72082999    257,525           7.2     76/100             90%  \n",
       "1093            72021008     70,696           6.9     82/100             87%  \n",
       "1094            72013010    185,149           7.0     70/100             83%  \n",
       "1095            72006777     37,050           5.6     42/100             20%  "
      ]
     },
     "execution_count": 26,
     "metadata": {},
     "output_type": "execute_result"
    }
   ],
   "source": [
    "df.tail()"
   ]
  },
  {
   "cell_type": "markdown",
   "metadata": {},
   "source": [
    "One of our main goals is to compare"
   ]
  },
  {
   "cell_type": "code",
   "execution_count": 27,
   "metadata": {},
   "outputs": [
    {
     "name": "stdout",
     "output_type": "stream",
     "text": [
      "<class 'pandas.core.frame.DataFrame'>\n",
      "RangeIndex: 1096 entries, 0 to 1095\n",
      "Data columns (total 10 columns):\n",
      "Rank                  1096 non-null int64\n",
      "Movie                 1096 non-null object\n",
      "Genre                 1096 non-null object\n",
      "Year                  1096 non-null int64\n",
      "Month                 1096 non-null int64\n",
      "DomesticBox Office    1096 non-null int64\n",
      "IMDb Votes            1096 non-null object\n",
      "IMDb Ratings          1096 non-null float64\n",
      "Metacritic            1080 non-null object\n",
      "Rotten Tomatoes       1072 non-null object\n",
      "dtypes: float64(1), int64(4), object(5)\n",
      "memory usage: 85.7+ KB\n"
     ]
    }
   ],
   "source": [
    "df.info()"
   ]
  },
  {
   "cell_type": "code",
   "execution_count": 28,
   "metadata": {},
   "outputs": [
    {
     "name": "stdout",
     "output_type": "stream",
     "text": [
      "362\n",
      "734\n"
     ]
    },
    {
     "data": {
      "image/png": "[encoded data removed]",
      "text/plain": [
       "<Figure size 1560x780 with 1 Axes>"
      ]
     },
     "metadata": {
      "needs_background": "light"
     },
     "output_type": "display_data"
    }
   ],
   "source": [
    "monthly_comp = df.groupby('Month')['DomesticBox Office'].mean()\n",
    "df_newer = df[df['Year']>2010]\n",
    "print(len(df_newer))\n",
    "monthly_comp_newer = df_newer.groupby('Month')['DomesticBox Office'].mean()\n",
    "df_older = df[df['Year']<=2010]\n",
    "print(len(df_older))\n",
    "monthly_comp_older = df_older.groupby('Month')['DomesticBox Office'].mean()\n",
    "plt.figure(figsize=(12,6),dpi=130)\n",
    "plt.xlabel('Release month with sale amount')\n",
    "plt.ylabel('Profits earned in $10B')\n",
    "plt.grid()\n",
    "plt.plot(monthly_comp_older, 'g')\n",
    "plt.plot(monthly_comp, 'r')\n",
    "plt.plot(monthly_comp_newer, 'b')\n",
    "plt.legend()\n",
    "plt.show()"
   ]
  },
  {
   "cell_type": "code",
   "execution_count": 29,
   "metadata": {},
   "outputs": [],
   "source": [
    "df_action = df[df['Genre'].str.contains('Action')]\n",
    "df_drama = df[df['Genre'].str.contains('Drama')]\n",
    "df_scifi = df[df['Genre'].str.contains('Sci-Fi')]\n",
    "df_comedy = df[df['Genre'].str.contains('Comedy')]\n",
    "#df_action = df[df['Genre']]"
   ]
  },
  {
   "cell_type": "code",
   "execution_count": 30,
   "metadata": {},
   "outputs": [
    {
     "name": "stdout",
     "output_type": "stream",
     "text": [
      "169\n",
      "241\n"
     ]
    },
    {
     "data": {
      "image/png": "[encoded data removed]",
      "text/plain": [
       "<Figure size 1560x780 with 1 Axes>"
      ]
     },
     "metadata": {
      "needs_background": "light"
     },
     "output_type": "display_data"
    }
   ],
   "source": [
    "monthly_comp_action = df_action.groupby('Month')['DomesticBox Office'].mean()\n",
    "df_newer_action = df_action[df_action['Year']>2010]\n",
    "print(len(df_newer_action))\n",
    "monthly_comp_newer_action = df_newer_action.groupby('Month')['DomesticBox Office'].mean()\n",
    "df_older_action = df_action[df_action['Year']<=2010]\n",
    "print(len(df_older_action))\n",
    "monthly_comp_older_action = df_older_action.groupby('Month')['DomesticBox Office'].mean()\n",
    "plt.figure(figsize=(12,6),dpi=130)\n",
    "plt.xlabel('Release month with sale amount')\n",
    "plt.ylabel('Profits earned in $10B')\n",
    "plt.grid()\n",
    "plt.plot(monthly_comp_older_action, 'g')\n",
    "plt.plot(monthly_comp_action, 'r')\n",
    "plt.plot(monthly_comp_newer_action, 'b')\n",
    "plt.legend()\n",
    "plt.show()"
   ]
  },
  {
   "cell_type": "code",
   "execution_count": 31,
   "metadata": {},
   "outputs": [
    {
     "data": {
      "text/plain": [
       "[<matplotlib.lines.Line2D at 0x1194377f0>]"
      ]
     },
     "execution_count": 31,
     "metadata": {},
     "output_type": "execute_result"
    },
    {
     "data": {
      "image/png": "[encoded data removed]",
      "text/plain": [
       "<Figure size 432x288 with 1 Axes>"
      ]
     },
     "metadata": {
      "needs_background": "light"
     },
     "output_type": "display_data"
    }
   ],
   "source": [
    "profits_year = df.groupby('Year')['DomesticBox Office'].sum()\n",
    "plt.plot(profits_year)"
   ]
  },
  {
   "cell_type": "markdown",
   "metadata": {},
   "source": [
    "# Data Analysis & Results"
   ]
  },
  {
   "cell_type": "markdown",
   "metadata": {},
   "source": [
    "Include cells that describe the steps in your data analysis."
   ]
  },
  {
   "cell_type": "code",
   "execution_count": 32,
   "metadata": {},
   "outputs": [],
   "source": [
    "## YOUR CODE HERE\n",
    "## FEEL FREE TO ADD MULTIPLE CELLS PER SECTION"
   ]
  },
  {
   "cell_type": "markdown",
   "metadata": {},
   "source": [
    "# Ethics & Privacy"
   ]
  },
  {
   "cell_type": "markdown",
   "metadata": {},
   "source": [
    "*Fill in your ethics & privacy discussion here*"
   ]
  },
  {
   "cell_type": "markdown",
   "metadata": {},
   "source": [
    "# Conclusion & Discussion"
   ]
  },
  {
   "cell_type": "markdown",
   "metadata": {},
   "source": [
    "*Fill in your discussion information here*"
   ]
  }
 ],
 "metadata": {
  "kernelspec": {
   "display_name": "Python 3",
   "language": "python",
   "name": "python3"
  },
  "language_info": {
   "codemirror_mode": {
    "name": "ipython",
    "version": 3
   },
   "file_extension": ".py",
   "mimetype": "text/x-python",
   "name": "python",
   "nbconvert_exporter": "python",
   "pygments_lexer": "ipython3",
   "version": "3.7.2"
  }
 },
 "nbformat": 4,
 "nbformat_minor": 2
}
