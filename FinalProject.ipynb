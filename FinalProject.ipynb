{
 "cells": [
  {
   "cell_type": "markdown",
   "metadata": {},
   "source": [
    "# COGS 108 - Final Project "
   ]
  },
  {
   "cell_type": "markdown",
   "metadata": {},
   "source": [
    "# Overview"
   ]
  },
  {
   "cell_type": "markdown",
   "metadata": {},
   "source": [
    "*Fill in your overview here*"
   ]
  },
  {
   "cell_type": "markdown",
   "metadata": {},
   "source": [
    "# Names\n",
    "\n",
    "- Amir Rashidi\n",
    "- Amir Farhan\n",
    "- Byungkwon Han\n",
    "- Xiaotian Shi\n",
    "- Jason Tam"
   ]
  },
  {
   "cell_type": "markdown",
   "metadata": {},
   "source": [
    "# Group Members IDs\n",
    "\n",
    "- A########\n",
    "- A########\n",
    "- A########\n",
    "- A########"
   ]
  },
  {
   "cell_type": "markdown",
   "metadata": {},
   "source": [
    "# Research Question"
   ]
  },
  {
   "cell_type": "markdown",
   "metadata": {},
   "source": [
    "When is the best time for manufacturers to release a movie in the United States, in order to maximize revenue?"
   ]
  },
  {
   "cell_type": "markdown",
   "metadata": {},
   "source": [
    "## Background and Prior Work"
   ]
  },
  {
   "cell_type": "markdown",
   "metadata": {},
   "source": [
    "*Fill in your background and prior work here* \n",
    "\n",
    "References (include links):\n",
    "- 1)\n",
    "- 2)"
   ]
  },
  {
   "cell_type": "markdown",
   "metadata": {},
   "source": [
    "# Hypothesis\n"
   ]
  },
  {
   "cell_type": "markdown",
   "metadata": {},
   "source": [
    "Although the revenue that a movie eventually earns depends on many different factors, it directly depends on how many tickets it can sell.<br>\n",
    "<br>\n",
    "Based on this, our first assumption is that a movie earns more if it is released during the leisure months of its targeted audiences. Thus, it will be more legitimate to compare movies within the same genre. We will be focusing on specific genre(s) when analyzing our data.<br>\n",
    "<br>\n",
    "Our second hypothesis, which follows the first, is that the revenue is also influenced by the release time relative to other events. Since people's money and time are limited, if the movie is released when there are other events (major social/entertainment events, or other popular movies) coming, people who originally plan to watch the movie may give up on it.<br>\n",
    "<br>\n",
    "The qualities of movies could be a potential confounding factor here, since it is natural for people to not watch movies that are rated badly. We will compare movies that are roughly at the same level, measuring primarily by the ratings."
   ]
  },
  {
   "cell_type": "markdown",
   "metadata": {},
   "source": [
    "# Dataset(s)"
   ]
  },
  {
   "cell_type": "markdown",
   "metadata": {},
   "source": [
    "Dataset Name: The Numbers Domestic Boxoffice Dataset<br>\n",
    "Link to the dataset: https://www.the-numbers.com/box-office-records/domestic/all-movies/cumulative/all-time<br>\n",
    "Number of observations: 1100<br>\n",
    "Description: This dataset contains 1100 bestseller movies along with their domestic, international, and worldwide box<br>offices. We will only be using the domestic box offices."
   ]
  },
  {
   "cell_type": "markdown",
   "metadata": {},
   "source": [
    "Dataset Name: OMDb Movie Dataset<br>\n",
    "Link to the dataset: www.omdbapi.com<br>\n",
    "Number of observations: 1100<br>\n",
    "Description: This dataset contains IMDb, Metacritic, and Rotten Tomatoes ratings of the movies in the other dataset. It also contains <br>the release dates. "
   ]
  },
  {
   "cell_type": "markdown",
   "metadata": {},
   "source": [
    "We will join the two datasets on movie name in order to get the ratings, release dates, and box offices information in the same data frame."
   ]
  },
  {
   "cell_type": "markdown",
   "metadata": {},
   "source": [
    "# Setup"
   ]
  },
  {
   "cell_type": "code",
   "execution_count": 33,
   "metadata": {},
   "outputs": [],
   "source": [
    "# importing required libraries\n",
    "import pandas as pd\n",
    "import numpy as np"
   ]
  },
  {
   "cell_type": "code",
   "execution_count": 34,
   "metadata": {},
   "outputs": [],
   "source": [
    "# omdb_joined.csv is the dataset resulting from joining the two raw datasets\n",
    "df_omdb = pd.read_csv(\"./data/omdb_joined.csv\")"
   ]
  },
  {
   "cell_type": "markdown",
   "metadata": {},
   "source": [
    "# Data Cleaning"
   ]
  },
  {
   "cell_type": "markdown",
   "metadata": {},
   "source": [
    "Describe your data cleaning steps here."
   ]
  },
  {
   "cell_type": "code",
   "execution_count": 35,
   "metadata": {},
   "outputs": [],
   "source": [
    "# Use the ranks as indices\n",
    "# The unnamed columns, which represent the original indices, will be dropped\n",
    "df_omdb.set_index('Rank', inplace=True)\n",
    "df_omdb.drop(df_omdb.columns[df_omdb.columns.str.contains('unnamed',case = False)],axis = 1, inplace = True)"
   ]
  },
  {
   "cell_type": "code",
   "execution_count": 36,
   "metadata": {},
   "outputs": [],
   "source": [
    "# Rename the column names('Released' -> 'Year', 'Released Month' -> 'Month', 'IMDB Votes' -> 'IMDb Votes')\n",
    "df_omdb.rename(index=str, columns={'Released': 'Year', 'Released Month': 'Month',\n",
    "                                   'IMDB Votes': 'IMDb Votes'}, inplace=True)"
   ]
  },
  {
   "cell_type": "code",
   "execution_count": 37,
   "metadata": {},
   "outputs": [
    {
     "name": "stdout",
     "output_type": "stream",
     "text": [
      "NaN Month count: 2\n",
      "NaN Box Office count: 0\n"
     ]
    }
   ],
   "source": [
    "# Count the number of NaN values in the 'Month' and 'DomesticBox Office' column\n",
    "# These rows will be dropped because the release month and box offices are the primary targets\n",
    "# that we will be exploring, without these values, the row is useless\n",
    "naMonth = df_omdb['Month'].isna().sum()\n",
    "naBoxOffice = df_omdb['DomesticBox Office'].isna().sum()\n",
    "print('NaN Month count:', naMonth)\n",
    "print('NaN Box Office count:', naBoxOffice)"
   ]
  },
  {
   "cell_type": "markdown",
   "metadata": {},
   "source": [
    "The result of the last cell shows that we have 2 NaN values in the 'Month' column, and 0 NaN values in the 'DomesticBox Office' column. We will drop the two rows which contain NaN Months."
   ]
  },
  {
   "cell_type": "code",
   "execution_count": 38,
   "metadata": {},
   "outputs": [],
   "source": [
    "# Drop NaNs in Month column\n",
    "# Convert the Month column to only containing release months\n",
    "df_omdb.dropna(subset=['Month'], inplace=True)\n",
    "for idx, row in df_omdb.iterrows():\n",
    "    month = row['Month'][3:6]\n",
    "    df_omdb.at[idx, 'Month'] = month"
   ]
  },
  {
   "cell_type": "code",
   "execution_count": 39,
   "metadata": {},
   "outputs": [],
   "source": [
    "# Drop the columns 'InternationalBox Office' and 'WorldwideBox Office'\n",
    "# Our question only concerns the domestic revenues, we won't need these two columns\n",
    "df_omdb.drop(axis=1, columns=['InternationalBox Office', 'WorldwideBox Office'], inplace=True)"
   ]
  },
  {
   "cell_type": "code",
   "execution_count": 40,
   "metadata": {},
   "outputs": [],
   "source": [
    "# Convert the 'DomesticBox Office' column to integers\n",
    "for idx, row in df_omdb.iterrows():\n",
    "    revenue = ''.join(filter(str.isdigit, row['DomesticBox Office']))\n",
    "    df_omdb.at[idx, 'DomesticBox Office'] = revenue\n",
    "\n",
    "df_omdb['DomesticBox Office'] = pd.to_numeric(df_omdb['DomesticBox Office'])"
   ]
  },
  {
   "cell_type": "code",
   "execution_count": 41,
   "metadata": {},
   "outputs": [],
   "source": [
    "# Reorder the columns\n",
    "df_omdb = df_omdb[['Movie', 'Genre', 'Year', 'Month', 'DomesticBox Office',\n",
    "                   'IMDb Votes', 'IMDb Ratings', 'Metacritic', 'Rotten Tomatoes']]\n",
    "\n",
    "# save intermediate dataframe\n",
    "df_omdb.to_csv('./data/omdb_cleaned.csv')"
   ]
  },
  {
   "cell_type": "markdown",
   "metadata": {},
   "source": [
    "<b>Summary of Data Cleaning</b><br>\n",
    "<br>\n",
    "<b>1. Columns Dropped:</b> 'InternationalBox Office', 'WorldwideBox Office'<br>\n",
    "Our question concerns the domestic revenue of the movies. These two information in the data frame will not be used. We believe this will not affect the result because they are irrelevant.<br>\n",
    "<br>\n",
    "<b>2. Rows Dropped:</b> 2 rows where the 'Month' column contain NaN<br>\n",
    "We have to drop these two rows because they do not contain a critical row of our interest. We are exploring the relationship between the release time and domestic revenue. Without the Month column the rows are useless.<br>\n",
    "<br>\n",
    "<b>3. Other informations dropped:</b> The exact release dates originally contained in the 'Month' column<br>\n",
    "We dropped this information because we are not studying exact dates. Instead, we only care about the relationship between the release month and domestic revenue. Different release dates may also influence the revenue of a movie. However, because movies are often on show for several weeks, we decide to not consider this information. By doing this, we risk losing some information that might influence our result."
   ]
  },
  {
   "cell_type": "markdown",
   "metadata": {},
   "source": [
    "# Data Analysis & Results"
   ]
  },
  {
   "cell_type": "markdown",
   "metadata": {},
   "source": [
    "Include cells that describe the steps in your data analysis."
   ]
  },
  {
   "cell_type": "code",
   "execution_count": 5,
   "metadata": {},
   "outputs": [],
   "source": [
    "## YOUR CODE HERE\n",
    "## FEEL FREE TO ADD MULTIPLE CELLS PER SECTION"
   ]
  },
  {
   "cell_type": "markdown",
   "metadata": {},
   "source": [
    "# Ethics & Privacy"
   ]
  },
  {
   "cell_type": "markdown",
   "metadata": {},
   "source": [
    "*Fill in your ethics & privacy discussion here*"
   ]
  },
  {
   "cell_type": "markdown",
   "metadata": {},
   "source": [
    "# Conclusion & Discussion"
   ]
  },
  {
   "cell_type": "markdown",
   "metadata": {},
   "source": [
    "*Fill in your discussion information here*"
   ]
  }
 ],
 "metadata": {
  "kernelspec": {
   "display_name": "Python 3",
   "language": "python",
   "name": "python3"
  },
  "language_info": {
   "codemirror_mode": {
    "name": "ipython",
    "version": 3
   },
   "file_extension": ".py",
   "mimetype": "text/x-python",
   "name": "python",
   "nbconvert_exporter": "python",
   "pygments_lexer": "ipython3",
   "version": "3.7.2"
  }
 },
 "nbformat": 4,
 "nbformat_minor": 2
}
