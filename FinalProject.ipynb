{
 "cells": [
  {
   "cell_type": "markdown",
   "metadata": {},
   "source": [
    "# COGS 108 - Final Project "
   ]
  },
  {
   "cell_type": "markdown",
   "metadata": {},
   "source": [
    "# Overview"
   ]
  },
  {
   "cell_type": "markdown",
   "metadata": {},
   "source": [
    "*Fill in your overview here*"
   ]
  },
  {
   "cell_type": "markdown",
   "metadata": {},
   "source": [
    "# Names\n",
    "\n",
    "- Amir Rashidi\n",
    "- Amir Farhan\n",
    "- Byungkwon Han\n",
    "- Xiaotian Shi\n",
    "- Jason Tam"
   ]
  },
  {
   "cell_type": "markdown",
   "metadata": {},
   "source": [
    "# Group Members IDs\n",
    "\n",
    "- A########\n",
    "- A########\n",
    "- A########\n",
    "- A########"
   ]
  },
  {
   "cell_type": "markdown",
   "metadata": {},
   "source": [
    "# Research Question"
   ]
  },
  {
   "cell_type": "markdown",
   "metadata": {},
   "source": [
    "When is the best time for manufacturers to release a movie in the United States, in order to maximize revenue?"
   ]
  },
  {
   "cell_type": "markdown",
   "metadata": {},
   "source": [
    "## Background and Prior Work"
   ]
  },
  {
   "cell_type": "markdown",
   "metadata": {},
   "source": [
    "*Fill in your background and prior work here* \n",
    "\n",
    "References (include links):\n",
    "- 1)\n",
    "- 2)"
   ]
  },
  {
   "cell_type": "markdown",
   "metadata": {},
   "source": [
    "# Hypothesis\n"
   ]
  },
  {
   "cell_type": "markdown",
   "metadata": {},
   "source": [
    "Although the revenue that a movie eventually earns depends on many different factors, it directly depends on how many tickets it can sell.<br>\n",
    "<br>\n",
    "Based on this, our first assumption is that a movie earns more if it is released during the leisure months of its targeted audiences. Thus, it will be more legitimate to compare movies within the same genre. We will be focusing on specific genre(s) when analyzing our data.<br>\n",
    "<br>\n",
    "Our second hypothesis, which follows the first, is that the revenue is also influenced by the release time relative to other events. Since people's money and time are limited, if the movie is released when there are other events (major social/entertainment events, or other popular movies) coming, people who originally plan to watch the movie may give up on it.<br>\n",
    "<br>\n",
    "The qualities of movies could be a potential confounding factor here, since it is natural for people to not watch movies that are rated badly. We will compare movies that are roughly at the same level, measuring primarily by the ratings."
   ]
  },
  {
   "cell_type": "markdown",
   "metadata": {},
   "source": [
    "# Dataset(s)"
   ]
  },
  {
   "cell_type": "markdown",
   "metadata": {},
   "source": [
    "Dataset Name: The Numbers Domestic Boxoffice Dataset<br>\n",
    "Link to the dataset: https://www.the-numbers.com/box-office-records/domestic/all-movies/cumulative/all-time<br>\n",
    "Number of observations: 1100<br>\n",
    "Description: This dataset contains 1100 bestseller movies along with their domestic, international, and worldwide box<br>offices. We will only be using the domestic box offices."
   ]
  },
  {
   "cell_type": "markdown",
   "metadata": {},
   "source": [
    "Dataset Name: OMDb Movie Dataset<br>\n",
    "Link to the dataset: https://www.omdbapi.com<br>\n",
    "Number of observations: 1098<br>\n",
    "Description: This dataset contains IMDb, Metacritic, and Rotten Tomatoes ratings of the movies in the other dataset. It also contains <br>the release dates. "
   ]
  },
  {
   "cell_type": "markdown",
   "metadata": {},
   "source": [
    "We will join the two datasets on movie name in order to get the ratings, release dates, and box offices information in the same data frame."
   ]
  },
  {
   "cell_type": "markdown",
   "metadata": {},
   "source": [
    "# Setup"
   ]
  },
  {
   "cell_type": "markdown",
   "metadata": {},
   "source": [
    "Before we start setting up and cleaning the data, we deleted 2 rows from The Numbers Domestic Boxoffice Dataset, because the form of the 2 rows make it hard to query data from OMDb. Moreover, after manually fixing the form, it seems that the result from OMDb to be containing all NaN values. Thus, we decided to remove those 2 rows. As a result, the joined dataset has 1098 rows."
   ]
  },
  {
   "cell_type": "code",
   "execution_count": 32,
   "metadata": {},
   "outputs": [],
   "source": [
    "# importing required libraries\n",
    "import pandas as pd\n",
    "import numpy as np\n",
    "import matplotlib.pyplot as plt"
   ]
  },
  {
   "cell_type": "code",
   "execution_count": 33,
   "metadata": {},
   "outputs": [],
   "source": [
    "# omdb_joined.csv is the dataset resulting from joining the two raw datasets\n",
    "df_omdb = pd.read_csv(\"./data/omdb_joined.csv\")"
   ]
  },
  {
   "cell_type": "markdown",
   "metadata": {},
   "source": [
    "# Data Cleaning"
   ]
  },
  {
   "cell_type": "markdown",
   "metadata": {},
   "source": [
    "Describe your data cleaning steps here."
   ]
  },
  {
   "cell_type": "code",
   "execution_count": 34,
   "metadata": {},
   "outputs": [],
   "source": [
    "# Use the ranks as indices\n",
    "# The unnamed columns, which represent the original indices, will be dropped\n",
    "df_omdb.set_index('Rank', inplace=True)\n",
    "df_omdb.drop(df_omdb.columns[df_omdb.columns.str.contains('unnamed',case = False)],axis = 1, inplace = True)"
   ]
  },
  {
   "cell_type": "code",
   "execution_count": 35,
   "metadata": {},
   "outputs": [],
   "source": [
    "# Rename the column names('Released' -> 'Year', 'Released Month' -> 'Month', 'IMDB Votes' -> 'IMDb Votes')\n",
    "df_omdb.rename(index=str, columns={'Released': 'Year', 'Released Month': 'Month',\n",
    "                                   'IMDB Votes': 'IMDb Votes'}, inplace=True)"
   ]
  },
  {
   "cell_type": "code",
   "execution_count": 36,
   "metadata": {},
   "outputs": [
    {
     "name": "stdout",
     "output_type": "stream",
     "text": [
      "NaN Month count: 2\n",
      "NaN Box Office count: 0\n"
     ]
    }
   ],
   "source": [
    "# Count the number of NaN values in the 'Month' and 'DomesticBox Office' column\n",
    "# These rows will be dropped because the release month and box offices are the primary targets\n",
    "# that we will be exploring, without these values, the row is useless\n",
    "naMonth = df_omdb['Month'].isna().sum()\n",
    "naBoxOffice = df_omdb['DomesticBox Office'].isna().sum()\n",
    "print('NaN Month count:', naMonth)\n",
    "print('NaN Box Office count:', naBoxOffice)"
   ]
  },
  {
   "cell_type": "markdown",
   "metadata": {},
   "source": [
    "The result of the last cell shows that we have 2 NaN values in the 'Month' column, and 0 NaN values in the 'DomesticBox Office' column. We will drop the two rows which contain NaN Months."
   ]
  },
  {
   "cell_type": "code",
   "execution_count": 37,
   "metadata": {},
   "outputs": [],
   "source": [
    "# Drop NaNs in Month column\n",
    "# Convert the Month column to only containing release months\n",
    "df_omdb.dropna(subset=['Month'], inplace=True)\n",
    "for idx, row in df_omdb.iterrows():\n",
    "    month = row['Month'][3:6]\n",
    "    df_omdb.at[idx, 'Month'] = month"
   ]
  },
  {
   "cell_type": "code",
   "execution_count": 38,
   "metadata": {},
   "outputs": [],
   "source": [
    "# Drop the columns 'InternationalBox Office' and 'WorldwideBox Office'\n",
    "# Our question only concerns the domestic revenues, we won't need these two columns\n",
    "df_omdb.drop(axis=1, columns=['InternationalBox Office', 'WorldwideBox Office'], inplace=True)"
   ]
  },
  {
   "cell_type": "code",
   "execution_count": 39,
   "metadata": {},
   "outputs": [],
   "source": [
    "# Convert the 'DomesticBox Office' column to integers\n",
    "for idx, row in df_omdb.iterrows():\n",
    "    revenue = ''.join(filter(str.isdigit, row['DomesticBox Office']))\n",
    "    df_omdb.at[idx, 'DomesticBox Office'] = revenue\n",
    "\n",
    "df_omdb['DomesticBox Office'] = pd.to_numeric(df_omdb['DomesticBox Office'])"
   ]
  },
  {
   "cell_type": "code",
   "execution_count": 40,
   "metadata": {},
   "outputs": [],
   "source": [
    "# Reorder the columns\n",
    "df_omdb = df_omdb[['Movie', 'Genre', 'Year', 'Month', 'DomesticBox Office',\n",
    "                   'IMDb Votes', 'IMDb Ratings', 'Metacritic', 'Rotten Tomatoes']]"
   ]
  },
  {
   "cell_type": "code",
   "execution_count": 41,
   "metadata": {},
   "outputs": [
    {
     "name": "stdout",
     "output_type": "stream",
     "text": [
      "Unique months: ['Dec' 'Feb' 'Apr' 'Jun' 'May' 'Jul' 'Mar' 'Nov' 'Jan' 'Aug' 'Sep' 'Oct']\n",
      "Box Office Column dtype: int64\n"
     ]
    }
   ],
   "source": [
    "# Check whether the dataframe is in good shape\n",
    "print(\"Unique months:\", df_omdb['Month'].unique())\n",
    "print(\"Box Office Column dtype:\", df_omdb['DomesticBox Office'].dtype)"
   ]
  },
  {
   "cell_type": "code",
   "execution_count": 42,
   "metadata": {},
   "outputs": [],
   "source": [
    "# save intermediate dataframe\n",
    "df_omdb.to_csv('./data/omdb_cleaned.csv')"
   ]
  },
  {
   "cell_type": "markdown",
   "metadata": {},
   "source": [
    "<b>Summary of Data Cleaning</b><br>\n",
    "The two datasets are good enough that their data are already standardized. All the values in the DomesticBox Office column can be converted to int64 easily, and all values in the Month column all have the same format. Thus, our job on data cleaning is fairly simple<br>\n",
    "<br>\n",
    "<b>1. Pre-processsing:</b> 2 rows dropped from The Numbers Domestic Boxoffice Dataset (deleted directly in the file). Those two rows result in NaN values when querying the second dataset.<br>\n",
    "<br>\n",
    "<b>2. Columns Dropped:</b> 'InternationalBox Office', 'WorldwideBox Office'<br>\n",
    "Our question concerns the domestic revenue of the movies. These two information in the data frame will not be used. We believe this will not affect the result because they are irrelevant.<br>\n",
    "<br>\n",
    "<b>3. Rows Dropped:</b> 2 rows where the 'Month' column contain NaN<br>\n",
    "We have to drop these two rows because they do not contain a critical row of our interest. We are exploring the relationship between the release time and domestic revenue. Without the Month column the rows are useless.<br>\n",
    "<br>\n",
    "<b>4. Other informations dropped:</b> The exact release dates originally contained in the 'Month' column<br>\n",
    "We dropped this information because we are not studying exact dates. Instead, we only care about the relationship between the release month and domestic revenue. Different release dates may also influence the revenue of a movie. However, because movies are often on show for several weeks, we decide to not consider this information. By doing this, we risk losing some information that might influence our result."
   ]
  },
  {
   "cell_type": "markdown",
   "metadata": {},
   "source": [
    "# Descriptive Analysis"
   ]
  },
  {
   "cell_type": "markdown",
   "metadata": {},
   "source": [
    "Obtain the cleaned data. "
   ]
  },
  {
   "cell_type": "code",
   "execution_count": 43,
   "metadata": {},
   "outputs": [],
   "source": [
    "df = pd.read_csv('./data/omdb_cleaned.csv')"
   ]
  },
  {
   "cell_type": "markdown",
   "metadata": {},
   "source": [
    "# Size"
   ]
  },
  {
   "cell_type": "code",
   "execution_count": 44,
   "metadata": {},
   "outputs": [
    {
     "name": "stdout",
     "output_type": "stream",
     "text": [
      "Number of movies:  1096\n",
      "Variables for each movie:  10\n"
     ]
    }
   ],
   "source": [
    "# Print the size of the data\n",
    "num_movies,info = df.shape\n",
    "print(\"Number of movies: \", num_movies)\n",
    "print(\"Variables for each movie: \", info)"
   ]
  },
  {
   "cell_type": "markdown",
   "metadata": {},
   "source": [
    "# Missingness"
   ]
  },
  {
   "cell_type": "code",
   "execution_count": 45,
   "metadata": {},
   "outputs": [
    {
     "data": {
      "text/plain": [
       "Rank                   0\n",
       "Movie                  0\n",
       "Genre                  0\n",
       "Year                   0\n",
       "Month                  0\n",
       "DomesticBox Office     0\n",
       "IMDb Votes             0\n",
       "IMDb Ratings           0\n",
       "Metacritic            16\n",
       "Rotten Tomatoes       24\n",
       "dtype: int64"
      ]
     },
     "execution_count": 45,
     "metadata": {},
     "output_type": "execute_result"
    }
   ],
   "source": [
    "# Output the number of null elemeents in each column of the data\n",
    "df.isnull().sum()"
   ]
  },
  {
   "cell_type": "markdown",
   "metadata": {},
   "source": [
    "For ratings, we will not be using information from Metacritic or Rotten Tomatoes. Instead, we will only be using data from IMDb. Therefore, we will not have any missing data in our analysis."
   ]
  },
  {
   "cell_type": "markdown",
   "metadata": {},
   "source": [
    "# Shape"
   ]
  },
  {
   "cell_type": "code",
   "execution_count": 46,
   "metadata": {},
   "outputs": [
    {
     "data": {
      "image/png": "[encoded data removed]",
      "text/plain": [
       "<Figure size 432x288 with 1 Axes>"
      ]
     },
     "metadata": {
      "needs_background": "light"
     },
     "output_type": "display_data"
    }
   ],
   "source": [
    "# Plot a histogram comparing the number of movies that make each revenue category\n",
    "plt.figure()\n",
    "plt.xlabel(\"Revenue in $ billions\")\n",
    "df['DomesticBox Office'].plot.hist(bins=100)\n",
    "\n",
    "f1 = plt.gcf()"
   ]
  },
  {
   "cell_type": "markdown",
   "metadata": {},
   "source": [
    "We can see from the graph that the data is heavily skewed right indicating that revenue is usually around 100 billion. "
   ]
  },
  {
   "cell_type": "code",
   "execution_count": 47,
   "metadata": {},
   "outputs": [
    {
     "data": {
      "image/png": "[encoded data removed]",
      "text/plain": [
       "<Figure size 432x288 with 1 Axes>"
      ]
     },
     "metadata": {
      "needs_background": "light"
     },
     "output_type": "display_data"
    }
   ],
   "source": [
    "# Plot a histogram comparing the number of movies that get a certain rating on IMDb\n",
    "plt.figure()\n",
    "plt.xlabel(\"IMDb Ratings\")\n",
    "df['IMDb Ratings'].plot.hist(bins=25)\n",
    "\n",
    "f2 = plt.gcf()"
   ]
  },
  {
   "cell_type": "markdown",
   "metadata": {},
   "source": [
    "We can see from the graph that the data is normally distributed with a peak at 7."
   ]
  },
  {
   "cell_type": "markdown",
   "metadata": {},
   "source": [
    "# Central Tendency"
   ]
  },
  {
   "cell_type": "markdown",
   "metadata": {},
   "source": [
    "Since the data for revenue is skewed, we will find the median for the following steps since mean will not be a good indicator of central tendency. The data for ratings is mostly normal so we can use mean for ratings because the mean will be around the middle of the data."
   ]
  },
  {
   "cell_type": "code",
   "execution_count": 48,
   "metadata": {},
   "outputs": [
    {
     "name": "stdout",
     "output_type": "stream",
     "text": [
      "The median for revenues is $ 118532934.0\n",
      "The mean for rating is  6.806386861313871\n"
     ]
    }
   ],
   "source": [
    "median_revenue = df['DomesticBox Office'].median()\n",
    "mean_ratings = df['IMDb Ratings'].mean()\n",
    "print(\"The median for revenues is $\", median_revenue)\n",
    "print(\"The mean for rating is \", mean_ratings)"
   ]
  },
  {
   "cell_type": "markdown",
   "metadata": {},
   "source": [
    "# Variability"
   ]
  },
  {
   "cell_type": "markdown",
   "metadata": {},
   "source": [
    "For revenue, we use IQR since our central tendency was calculated using median and std wouldn't be a good indication of variability with a skewed graph. For ratings, we use standard deviation because we can see how far our data is from a line of best fit."
   ]
  },
  {
   "cell_type": "code",
   "execution_count": 49,
   "metadata": {},
   "outputs": [
    {
     "name": "stdout",
     "output_type": "stream",
     "text": [
      "The interquatile range for revenues is $ 82755090.0\n",
      "The standard deviation of ratings is  0.9275072361079982\n"
     ]
    }
   ],
   "source": [
    "lower_revenue,upper_revenue = np.percentile(df['DomesticBox Office'], [25,75])\n",
    "iqr_revenue = upper_revenue - lower_revenue\n",
    "print(\"The interquatile range for revenues is $\", iqr_revenue)\n",
    "std_ratings = df['IMDb Ratings'].std()\n",
    "print(\"The standard deviation of ratings is \", std_ratings)"
   ]
  },
  {
   "cell_type": "markdown",
   "metadata": {},
   "source": [
    "# Data Analysis & Results"
   ]
  },
  {
   "cell_type": "markdown",
   "metadata": {},
   "source": [
    "Include cells that describe the steps in your data analysis."
   ]
  },
  {
   "cell_type": "code",
   "execution_count": 50,
   "metadata": {},
   "outputs": [],
   "source": [
    "## YOUR CODE HERE\n",
    "## FEEL FREE TO ADD MULTIPLE CELLS PER SECTION"
   ]
  },
  {
   "cell_type": "markdown",
   "metadata": {},
   "source": [
    "# Ethics & Privacy"
   ]
  },
  {
   "cell_type": "markdown",
   "metadata": {},
   "source": [
    "*Fill in your ethics & privacy discussion here*"
   ]
  },
  {
   "cell_type": "markdown",
   "metadata": {},
   "source": [
    "# Conclusion & Discussion"
   ]
  },
  {
   "cell_type": "markdown",
   "metadata": {},
   "source": [
    "*Fill in your discussion information here*"
   ]
  }
 ],
 "metadata": {
  "kernelspec": {
   "display_name": "Python 3",
   "language": "python",
   "name": "python3"
  },
  "language_info": {
   "codemirror_mode": {
    "name": "ipython",
    "version": 3
   },
   "file_extension": ".py",
   "mimetype": "text/x-python",
   "name": "python",
   "nbconvert_exporter": "python",
   "pygments_lexer": "ipython3",
   "version": "3.7.3"
  }
 },
 "nbformat": 4,
 "nbformat_minor": 2
}
